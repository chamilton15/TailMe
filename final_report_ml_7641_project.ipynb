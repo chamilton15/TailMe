{
  "nbformat": 4,
  "nbformat_minor": 0,
  "metadata": {
    "colab": {
      "provenance": []
    },
    "kernelspec": {
      "name": "python3",
      "display_name": "Python 3"
    },
    "language_info": {
      "name": "python"
    }
  },
  "cells": [
    {
      "cell_type": "markdown",
      "source": [
        "### Import Statements"
      ],
      "metadata": {
        "id": "NvgzFZQCjOuj"
      }
    },
    {
      "cell_type": "code",
      "source": [
        "import pandas as pd\n",
        "from sentence_transformers import CrossEncoder\n",
        "!pip install -q transformers\n",
        "import pandas as pd\n",
        "from transformers import pipeline\n",
        "import torch\n",
        "from transformers import RobertaModel, RobertaTokenizer\n",
        "from sklearn.metrics.pairwise import cosine_similarity\n",
        "import matplotlib.pyplot as plt\n",
        "import seaborn as sns\n",
        "from sklearn.metrics import mean_absolute_error\n",
        "\n"
      ],
      "metadata": {
        "id": "IpePnQmUjDsu",
        "colab": {
          "base_uri": "https://localhost:8080/"
        },
        "outputId": "9062d68a-6f21-4bf5-9afc-acef346f7921"
      },
      "execution_count": null,
      "outputs": [
        {
          "output_type": "stream",
          "name": "stderr",
          "text": [
            "/usr/local/lib/python3.10/dist-packages/sentence_transformers/cross_encoder/CrossEncoder.py:13: TqdmExperimentalWarning: Using `tqdm.autonotebook.tqdm` in notebook mode. Use `tqdm.tqdm` instead to force console mode (e.g. in jupyter console)\n",
            "  from tqdm.autonotebook import tqdm, trange\n"
          ]
        }
      ]
    },
    {
      "cell_type": "markdown",
      "source": [
        "### Read articles dataframe in"
      ],
      "metadata": {
        "id": "pvG2tKr-jLf3"
      }
    },
    {
      "cell_type": "code",
      "source": [
        "df_articles = pd.read_csv(\"all_teams_data.csv\")\n",
        "df_articles = df_articles.rename(columns={'MetaData': 'Content'})\n",
        "print((df_articles.head()))"
      ],
      "metadata": {
        "colab": {
          "base_uri": "https://localhost:8080/"
        },
        "id": "oa3TWpRrigZT",
        "outputId": "6ac1bedd-8e08-4d44-cc6f-510729e3b6e6"
      },
      "execution_count": null,
      "outputs": [
        {
          "output_type": "stream",
          "name": "stdout",
          "text": [
            "        Team                                              Title  \\\n",
            "0  Air Force  10 reasons why Air Force football will embark ...   \n",
            "1  Air Force  Air Force hosts Robert Morris to start 2023 se...   \n",
            "2  Air Force  To keep wins coming, Air Force Falcons face 's...   \n",
            "3  Air Force  Group of 5 Conferences: Preview and Prediction...   \n",
            "4  Air Force   Air Force Football Announces New Fan Experiences   \n",
            "\n",
            "                                             Content  \n",
            "0                                     URL Not Parsed  \n",
            "1  Air Force Falcons Game vs Robert Morris Game P...  \n",
            "2  To keep wins coming, Air Force Falcons face ‘s...  \n",
            "3  Group of 5 Conferences: Preview and Prediction...  \n",
            "4  Air Force Academy Athletics Air Force Football...  \n"
          ]
        }
      ]
    },
    {
      "cell_type": "markdown",
      "source": [
        "### Scrape team results"
      ],
      "metadata": {
        "id": "WcjiFZ5YjxFu"
      }
    },
    {
      "cell_type": "code",
      "source": [
        "import requests\n",
        "from bs4 import BeautifulSoup\n",
        "\n",
        "url = 'https://www.sportsoddshistory.com/cfb-win/?y=2023&sa=cfb&t=win&o=t'\n",
        "\n",
        "response = requests.get(url)\n",
        "if response.status_code == 200:\n",
        "    soup = BeautifulSoup(response.content, 'html.parser')\n",
        "\n",
        "    rows = soup.find_all('tr')\n",
        "\n",
        "    team_data = []\n",
        "    for row in rows:\n",
        "        columns = row.find_all('td')\n",
        "\n",
        "        if len(columns) >= 6:\n",
        "            team_name = columns[0].get_text(strip=True)\n",
        "            win_prediction = columns[1].get_text(strip=True)\n",
        "            odds_minus = columns[2].get_text(strip=True)\n",
        "            odds_plus = columns[3].get_text(strip=True)\n",
        "            adj_win_prediction = columns[4].get_text(strip=True)\n",
        "            bet_type = columns[5].get_text(strip=True)\n",
        "\n",
        "            team_data.append({\n",
        "                'Team': team_name,\n",
        "                'Win Prediction': win_prediction,\n",
        "                'Odds Minus': odds_minus,\n",
        "                'Odds Plus': odds_plus,\n",
        "                'Actual Win': adj_win_prediction,\n",
        "                'Bet Type': bet_type\n",
        "            })\n",
        "\n",
        "    df_teams = pd.DataFrame(team_data)\n",
        "    df_teams['Actual Win'] = pd.to_numeric(df_teams['Actual Win'], errors='coerce')\n",
        "    df_teams['Win Prediction'] = pd.to_numeric(df_teams['Win Prediction'], errors='coerce')\n",
        "\n",
        "    df_teams['Win Diff'] = df_teams['Actual Win'] - df_teams['Win Prediction']\n",
        "\n",
        "    print(df_teams)\n",
        "else:\n",
        "    print(\"Failed to retrieve the webpage:\", response.status_code)\n"
      ],
      "metadata": {
        "id": "UtdmbSx0jwTO",
        "colab": {
          "base_uri": "https://localhost:8080/",
          "height": 372
        },
        "outputId": "a4f129a7-5698-4fa7-9780-a2b0b232f9a3"
      },
      "execution_count": null,
      "outputs": [
        {
          "output_type": "error",
          "ename": "KeyboardInterrupt",
          "evalue": "",
          "traceback": [
            "\u001b[0;31m---------------------------------------------------------------------------\u001b[0m",
            "\u001b[0;31mKeyboardInterrupt\u001b[0m                         Traceback (most recent call last)",
            "\u001b[0;32m<ipython-input-29-e3fec109762b>\u001b[0m in \u001b[0;36m<cell line: 6>\u001b[0;34m()\u001b[0m\n\u001b[1;32m      4\u001b[0m \u001b[0murl\u001b[0m \u001b[0;34m=\u001b[0m \u001b[0;34m'https://www.sportsoddshistory.com/cfb-win/?y=2023&sa=cfb&t=win&o=t'\u001b[0m\u001b[0;34m\u001b[0m\u001b[0;34m\u001b[0m\u001b[0m\n\u001b[1;32m      5\u001b[0m \u001b[0;34m\u001b[0m\u001b[0m\n\u001b[0;32m----> 6\u001b[0;31m \u001b[0mresponse\u001b[0m \u001b[0;34m=\u001b[0m \u001b[0mrequests\u001b[0m\u001b[0;34m.\u001b[0m\u001b[0mget\u001b[0m\u001b[0;34m(\u001b[0m\u001b[0murl\u001b[0m\u001b[0;34m)\u001b[0m\u001b[0;34m\u001b[0m\u001b[0;34m\u001b[0m\u001b[0m\n\u001b[0m\u001b[1;32m      7\u001b[0m \u001b[0;32mif\u001b[0m \u001b[0mresponse\u001b[0m\u001b[0;34m.\u001b[0m\u001b[0mstatus_code\u001b[0m \u001b[0;34m==\u001b[0m \u001b[0;36m200\u001b[0m\u001b[0;34m:\u001b[0m\u001b[0;34m\u001b[0m\u001b[0;34m\u001b[0m\u001b[0m\n\u001b[1;32m      8\u001b[0m     \u001b[0msoup\u001b[0m \u001b[0;34m=\u001b[0m \u001b[0mBeautifulSoup\u001b[0m\u001b[0;34m(\u001b[0m\u001b[0mresponse\u001b[0m\u001b[0;34m.\u001b[0m\u001b[0mcontent\u001b[0m\u001b[0;34m,\u001b[0m \u001b[0;34m'html.parser'\u001b[0m\u001b[0;34m)\u001b[0m\u001b[0;34m\u001b[0m\u001b[0;34m\u001b[0m\u001b[0m\n",
            "\u001b[0;32m/usr/local/lib/python3.10/dist-packages/requests/api.py\u001b[0m in \u001b[0;36mget\u001b[0;34m(url, params, **kwargs)\u001b[0m\n\u001b[1;32m     71\u001b[0m     \"\"\"\n\u001b[1;32m     72\u001b[0m \u001b[0;34m\u001b[0m\u001b[0m\n\u001b[0;32m---> 73\u001b[0;31m     \u001b[0;32mreturn\u001b[0m \u001b[0mrequest\u001b[0m\u001b[0;34m(\u001b[0m\u001b[0;34m\"get\"\u001b[0m\u001b[0;34m,\u001b[0m \u001b[0murl\u001b[0m\u001b[0;34m,\u001b[0m \u001b[0mparams\u001b[0m\u001b[0;34m=\u001b[0m\u001b[0mparams\u001b[0m\u001b[0;34m,\u001b[0m \u001b[0;34m**\u001b[0m\u001b[0mkwargs\u001b[0m\u001b[0;34m)\u001b[0m\u001b[0;34m\u001b[0m\u001b[0;34m\u001b[0m\u001b[0m\n\u001b[0m\u001b[1;32m     74\u001b[0m \u001b[0;34m\u001b[0m\u001b[0m\n\u001b[1;32m     75\u001b[0m \u001b[0;34m\u001b[0m\u001b[0m\n",
            "\u001b[0;32m/usr/local/lib/python3.10/dist-packages/requests/api.py\u001b[0m in \u001b[0;36mrequest\u001b[0;34m(method, url, **kwargs)\u001b[0m\n\u001b[1;32m     57\u001b[0m     \u001b[0;31m# cases, and look like a memory leak in others.\u001b[0m\u001b[0;34m\u001b[0m\u001b[0;34m\u001b[0m\u001b[0m\n\u001b[1;32m     58\u001b[0m     \u001b[0;32mwith\u001b[0m \u001b[0msessions\u001b[0m\u001b[0;34m.\u001b[0m\u001b[0mSession\u001b[0m\u001b[0;34m(\u001b[0m\u001b[0;34m)\u001b[0m \u001b[0;32mas\u001b[0m \u001b[0msession\u001b[0m\u001b[0;34m:\u001b[0m\u001b[0;34m\u001b[0m\u001b[0;34m\u001b[0m\u001b[0m\n\u001b[0;32m---> 59\u001b[0;31m         \u001b[0;32mreturn\u001b[0m \u001b[0msession\u001b[0m\u001b[0;34m.\u001b[0m\u001b[0mrequest\u001b[0m\u001b[0;34m(\u001b[0m\u001b[0mmethod\u001b[0m\u001b[0;34m=\u001b[0m\u001b[0mmethod\u001b[0m\u001b[0;34m,\u001b[0m \u001b[0murl\u001b[0m\u001b[0;34m=\u001b[0m\u001b[0murl\u001b[0m\u001b[0;34m,\u001b[0m \u001b[0;34m**\u001b[0m\u001b[0mkwargs\u001b[0m\u001b[0;34m)\u001b[0m\u001b[0;34m\u001b[0m\u001b[0;34m\u001b[0m\u001b[0m\n\u001b[0m\u001b[1;32m     60\u001b[0m \u001b[0;34m\u001b[0m\u001b[0m\n\u001b[1;32m     61\u001b[0m \u001b[0;34m\u001b[0m\u001b[0m\n",
            "\u001b[0;32m/usr/local/lib/python3.10/dist-packages/requests/sessions.py\u001b[0m in \u001b[0;36mrequest\u001b[0;34m(self, method, url, params, data, headers, cookies, files, auth, timeout, allow_redirects, proxies, hooks, stream, verify, cert, json)\u001b[0m\n\u001b[1;32m    587\u001b[0m         }\n\u001b[1;32m    588\u001b[0m         \u001b[0msend_kwargs\u001b[0m\u001b[0;34m.\u001b[0m\u001b[0mupdate\u001b[0m\u001b[0;34m(\u001b[0m\u001b[0msettings\u001b[0m\u001b[0;34m)\u001b[0m\u001b[0;34m\u001b[0m\u001b[0;34m\u001b[0m\u001b[0m\n\u001b[0;32m--> 589\u001b[0;31m         \u001b[0mresp\u001b[0m \u001b[0;34m=\u001b[0m \u001b[0mself\u001b[0m\u001b[0;34m.\u001b[0m\u001b[0msend\u001b[0m\u001b[0;34m(\u001b[0m\u001b[0mprep\u001b[0m\u001b[0;34m,\u001b[0m \u001b[0;34m**\u001b[0m\u001b[0msend_kwargs\u001b[0m\u001b[0;34m)\u001b[0m\u001b[0;34m\u001b[0m\u001b[0;34m\u001b[0m\u001b[0m\n\u001b[0m\u001b[1;32m    590\u001b[0m \u001b[0;34m\u001b[0m\u001b[0m\n\u001b[1;32m    591\u001b[0m         \u001b[0;32mreturn\u001b[0m \u001b[0mresp\u001b[0m\u001b[0;34m\u001b[0m\u001b[0;34m\u001b[0m\u001b[0m\n",
            "\u001b[0;32m/usr/local/lib/python3.10/dist-packages/requests/sessions.py\u001b[0m in \u001b[0;36msend\u001b[0;34m(self, request, **kwargs)\u001b[0m\n\u001b[1;32m    701\u001b[0m \u001b[0;34m\u001b[0m\u001b[0m\n\u001b[1;32m    702\u001b[0m         \u001b[0;31m# Send the request\u001b[0m\u001b[0;34m\u001b[0m\u001b[0;34m\u001b[0m\u001b[0m\n\u001b[0;32m--> 703\u001b[0;31m         \u001b[0mr\u001b[0m \u001b[0;34m=\u001b[0m \u001b[0madapter\u001b[0m\u001b[0;34m.\u001b[0m\u001b[0msend\u001b[0m\u001b[0;34m(\u001b[0m\u001b[0mrequest\u001b[0m\u001b[0;34m,\u001b[0m \u001b[0;34m**\u001b[0m\u001b[0mkwargs\u001b[0m\u001b[0;34m)\u001b[0m\u001b[0;34m\u001b[0m\u001b[0;34m\u001b[0m\u001b[0m\n\u001b[0m\u001b[1;32m    704\u001b[0m \u001b[0;34m\u001b[0m\u001b[0m\n\u001b[1;32m    705\u001b[0m         \u001b[0;31m# Total elapsed time of the request (approximately)\u001b[0m\u001b[0;34m\u001b[0m\u001b[0;34m\u001b[0m\u001b[0m\n",
            "\u001b[0;32m/usr/local/lib/python3.10/dist-packages/requests/adapters.py\u001b[0m in \u001b[0;36msend\u001b[0;34m(self, request, stream, timeout, verify, cert, proxies)\u001b[0m\n\u001b[1;32m    665\u001b[0m \u001b[0;34m\u001b[0m\u001b[0m\n\u001b[1;32m    666\u001b[0m         \u001b[0;32mtry\u001b[0m\u001b[0;34m:\u001b[0m\u001b[0;34m\u001b[0m\u001b[0;34m\u001b[0m\u001b[0m\n\u001b[0;32m--> 667\u001b[0;31m             resp = conn.urlopen(\n\u001b[0m\u001b[1;32m    668\u001b[0m                 \u001b[0mmethod\u001b[0m\u001b[0;34m=\u001b[0m\u001b[0mrequest\u001b[0m\u001b[0;34m.\u001b[0m\u001b[0mmethod\u001b[0m\u001b[0;34m,\u001b[0m\u001b[0;34m\u001b[0m\u001b[0;34m\u001b[0m\u001b[0m\n\u001b[1;32m    669\u001b[0m                 \u001b[0murl\u001b[0m\u001b[0;34m=\u001b[0m\u001b[0murl\u001b[0m\u001b[0;34m,\u001b[0m\u001b[0;34m\u001b[0m\u001b[0;34m\u001b[0m\u001b[0m\n",
            "\u001b[0;32m/usr/local/lib/python3.10/dist-packages/urllib3/connectionpool.py\u001b[0m in \u001b[0;36murlopen\u001b[0;34m(self, method, url, body, headers, retries, redirect, assert_same_host, timeout, pool_timeout, release_conn, chunked, body_pos, preload_content, decode_content, **response_kw)\u001b[0m\n\u001b[1;32m    787\u001b[0m \u001b[0;34m\u001b[0m\u001b[0m\n\u001b[1;32m    788\u001b[0m             \u001b[0;31m# Make the request on the HTTPConnection object\u001b[0m\u001b[0;34m\u001b[0m\u001b[0;34m\u001b[0m\u001b[0m\n\u001b[0;32m--> 789\u001b[0;31m             response = self._make_request(\n\u001b[0m\u001b[1;32m    790\u001b[0m                 \u001b[0mconn\u001b[0m\u001b[0;34m,\u001b[0m\u001b[0;34m\u001b[0m\u001b[0;34m\u001b[0m\u001b[0m\n\u001b[1;32m    791\u001b[0m                 \u001b[0mmethod\u001b[0m\u001b[0;34m,\u001b[0m\u001b[0;34m\u001b[0m\u001b[0;34m\u001b[0m\u001b[0m\n",
            "\u001b[0;32m/usr/local/lib/python3.10/dist-packages/urllib3/connectionpool.py\u001b[0m in \u001b[0;36m_make_request\u001b[0;34m(self, conn, method, url, body, headers, retries, timeout, chunked, response_conn, preload_content, decode_content, enforce_content_length)\u001b[0m\n\u001b[1;32m    534\u001b[0m         \u001b[0;31m# Receive the response from the server\u001b[0m\u001b[0;34m\u001b[0m\u001b[0;34m\u001b[0m\u001b[0m\n\u001b[1;32m    535\u001b[0m         \u001b[0;32mtry\u001b[0m\u001b[0;34m:\u001b[0m\u001b[0;34m\u001b[0m\u001b[0;34m\u001b[0m\u001b[0m\n\u001b[0;32m--> 536\u001b[0;31m             \u001b[0mresponse\u001b[0m \u001b[0;34m=\u001b[0m \u001b[0mconn\u001b[0m\u001b[0;34m.\u001b[0m\u001b[0mgetresponse\u001b[0m\u001b[0;34m(\u001b[0m\u001b[0;34m)\u001b[0m\u001b[0;34m\u001b[0m\u001b[0;34m\u001b[0m\u001b[0m\n\u001b[0m\u001b[1;32m    537\u001b[0m         \u001b[0;32mexcept\u001b[0m \u001b[0;34m(\u001b[0m\u001b[0mBaseSSLError\u001b[0m\u001b[0;34m,\u001b[0m \u001b[0mOSError\u001b[0m\u001b[0;34m)\u001b[0m \u001b[0;32mas\u001b[0m \u001b[0me\u001b[0m\u001b[0;34m:\u001b[0m\u001b[0;34m\u001b[0m\u001b[0;34m\u001b[0m\u001b[0m\n\u001b[1;32m    538\u001b[0m             \u001b[0mself\u001b[0m\u001b[0;34m.\u001b[0m\u001b[0m_raise_timeout\u001b[0m\u001b[0;34m(\u001b[0m\u001b[0merr\u001b[0m\u001b[0;34m=\u001b[0m\u001b[0me\u001b[0m\u001b[0;34m,\u001b[0m \u001b[0murl\u001b[0m\u001b[0;34m=\u001b[0m\u001b[0murl\u001b[0m\u001b[0;34m,\u001b[0m \u001b[0mtimeout_value\u001b[0m\u001b[0;34m=\u001b[0m\u001b[0mread_timeout\u001b[0m\u001b[0;34m)\u001b[0m\u001b[0;34m\u001b[0m\u001b[0;34m\u001b[0m\u001b[0m\n",
            "\u001b[0;32m/usr/local/lib/python3.10/dist-packages/urllib3/connection.py\u001b[0m in \u001b[0;36mgetresponse\u001b[0;34m(self)\u001b[0m\n\u001b[1;32m    505\u001b[0m \u001b[0;34m\u001b[0m\u001b[0m\n\u001b[1;32m    506\u001b[0m         \u001b[0;31m# Get the response from http.client.HTTPConnection\u001b[0m\u001b[0;34m\u001b[0m\u001b[0;34m\u001b[0m\u001b[0m\n\u001b[0;32m--> 507\u001b[0;31m         \u001b[0mhttplib_response\u001b[0m \u001b[0;34m=\u001b[0m \u001b[0msuper\u001b[0m\u001b[0;34m(\u001b[0m\u001b[0;34m)\u001b[0m\u001b[0;34m.\u001b[0m\u001b[0mgetresponse\u001b[0m\u001b[0;34m(\u001b[0m\u001b[0;34m)\u001b[0m\u001b[0;34m\u001b[0m\u001b[0;34m\u001b[0m\u001b[0m\n\u001b[0m\u001b[1;32m    508\u001b[0m \u001b[0;34m\u001b[0m\u001b[0m\n\u001b[1;32m    509\u001b[0m         \u001b[0;32mtry\u001b[0m\u001b[0;34m:\u001b[0m\u001b[0;34m\u001b[0m\u001b[0;34m\u001b[0m\u001b[0m\n",
            "\u001b[0;32m/usr/lib/python3.10/http/client.py\u001b[0m in \u001b[0;36mgetresponse\u001b[0;34m(self)\u001b[0m\n\u001b[1;32m   1373\u001b[0m         \u001b[0;32mtry\u001b[0m\u001b[0;34m:\u001b[0m\u001b[0;34m\u001b[0m\u001b[0;34m\u001b[0m\u001b[0m\n\u001b[1;32m   1374\u001b[0m             \u001b[0;32mtry\u001b[0m\u001b[0;34m:\u001b[0m\u001b[0;34m\u001b[0m\u001b[0;34m\u001b[0m\u001b[0m\n\u001b[0;32m-> 1375\u001b[0;31m                 \u001b[0mresponse\u001b[0m\u001b[0;34m.\u001b[0m\u001b[0mbegin\u001b[0m\u001b[0;34m(\u001b[0m\u001b[0;34m)\u001b[0m\u001b[0;34m\u001b[0m\u001b[0;34m\u001b[0m\u001b[0m\n\u001b[0m\u001b[1;32m   1376\u001b[0m             \u001b[0;32mexcept\u001b[0m \u001b[0mConnectionError\u001b[0m\u001b[0;34m:\u001b[0m\u001b[0;34m\u001b[0m\u001b[0;34m\u001b[0m\u001b[0m\n\u001b[1;32m   1377\u001b[0m                 \u001b[0mself\u001b[0m\u001b[0;34m.\u001b[0m\u001b[0mclose\u001b[0m\u001b[0;34m(\u001b[0m\u001b[0;34m)\u001b[0m\u001b[0;34m\u001b[0m\u001b[0;34m\u001b[0m\u001b[0m\n",
            "\u001b[0;32m/usr/lib/python3.10/http/client.py\u001b[0m in \u001b[0;36mbegin\u001b[0;34m(self)\u001b[0m\n\u001b[1;32m    316\u001b[0m         \u001b[0;31m# read until we get a non-100 response\u001b[0m\u001b[0;34m\u001b[0m\u001b[0;34m\u001b[0m\u001b[0m\n\u001b[1;32m    317\u001b[0m         \u001b[0;32mwhile\u001b[0m \u001b[0;32mTrue\u001b[0m\u001b[0;34m:\u001b[0m\u001b[0;34m\u001b[0m\u001b[0;34m\u001b[0m\u001b[0m\n\u001b[0;32m--> 318\u001b[0;31m             \u001b[0mversion\u001b[0m\u001b[0;34m,\u001b[0m \u001b[0mstatus\u001b[0m\u001b[0;34m,\u001b[0m \u001b[0mreason\u001b[0m \u001b[0;34m=\u001b[0m \u001b[0mself\u001b[0m\u001b[0;34m.\u001b[0m\u001b[0m_read_status\u001b[0m\u001b[0;34m(\u001b[0m\u001b[0;34m)\u001b[0m\u001b[0;34m\u001b[0m\u001b[0;34m\u001b[0m\u001b[0m\n\u001b[0m\u001b[1;32m    319\u001b[0m             \u001b[0;32mif\u001b[0m \u001b[0mstatus\u001b[0m \u001b[0;34m!=\u001b[0m \u001b[0mCONTINUE\u001b[0m\u001b[0;34m:\u001b[0m\u001b[0;34m\u001b[0m\u001b[0;34m\u001b[0m\u001b[0m\n\u001b[1;32m    320\u001b[0m                 \u001b[0;32mbreak\u001b[0m\u001b[0;34m\u001b[0m\u001b[0;34m\u001b[0m\u001b[0m\n",
            "\u001b[0;32m/usr/lib/python3.10/http/client.py\u001b[0m in \u001b[0;36m_read_status\u001b[0;34m(self)\u001b[0m\n\u001b[1;32m    277\u001b[0m \u001b[0;34m\u001b[0m\u001b[0m\n\u001b[1;32m    278\u001b[0m     \u001b[0;32mdef\u001b[0m \u001b[0m_read_status\u001b[0m\u001b[0;34m(\u001b[0m\u001b[0mself\u001b[0m\u001b[0;34m)\u001b[0m\u001b[0;34m:\u001b[0m\u001b[0;34m\u001b[0m\u001b[0;34m\u001b[0m\u001b[0m\n\u001b[0;32m--> 279\u001b[0;31m         \u001b[0mline\u001b[0m \u001b[0;34m=\u001b[0m \u001b[0mstr\u001b[0m\u001b[0;34m(\u001b[0m\u001b[0mself\u001b[0m\u001b[0;34m.\u001b[0m\u001b[0mfp\u001b[0m\u001b[0;34m.\u001b[0m\u001b[0mreadline\u001b[0m\u001b[0;34m(\u001b[0m\u001b[0m_MAXLINE\u001b[0m \u001b[0;34m+\u001b[0m \u001b[0;36m1\u001b[0m\u001b[0;34m)\u001b[0m\u001b[0;34m,\u001b[0m \u001b[0;34m\"iso-8859-1\"\u001b[0m\u001b[0;34m)\u001b[0m\u001b[0;34m\u001b[0m\u001b[0;34m\u001b[0m\u001b[0m\n\u001b[0m\u001b[1;32m    280\u001b[0m         \u001b[0;32mif\u001b[0m \u001b[0mlen\u001b[0m\u001b[0;34m(\u001b[0m\u001b[0mline\u001b[0m\u001b[0;34m)\u001b[0m \u001b[0;34m>\u001b[0m \u001b[0m_MAXLINE\u001b[0m\u001b[0;34m:\u001b[0m\u001b[0;34m\u001b[0m\u001b[0;34m\u001b[0m\u001b[0m\n\u001b[1;32m    281\u001b[0m             \u001b[0;32mraise\u001b[0m \u001b[0mLineTooLong\u001b[0m\u001b[0;34m(\u001b[0m\u001b[0;34m\"status line\"\u001b[0m\u001b[0;34m)\u001b[0m\u001b[0;34m\u001b[0m\u001b[0;34m\u001b[0m\u001b[0m\n",
            "\u001b[0;32m/usr/lib/python3.10/socket.py\u001b[0m in \u001b[0;36mreadinto\u001b[0;34m(self, b)\u001b[0m\n\u001b[1;32m    703\u001b[0m         \u001b[0;32mwhile\u001b[0m \u001b[0;32mTrue\u001b[0m\u001b[0;34m:\u001b[0m\u001b[0;34m\u001b[0m\u001b[0;34m\u001b[0m\u001b[0m\n\u001b[1;32m    704\u001b[0m             \u001b[0;32mtry\u001b[0m\u001b[0;34m:\u001b[0m\u001b[0;34m\u001b[0m\u001b[0;34m\u001b[0m\u001b[0m\n\u001b[0;32m--> 705\u001b[0;31m                 \u001b[0;32mreturn\u001b[0m \u001b[0mself\u001b[0m\u001b[0;34m.\u001b[0m\u001b[0m_sock\u001b[0m\u001b[0;34m.\u001b[0m\u001b[0mrecv_into\u001b[0m\u001b[0;34m(\u001b[0m\u001b[0mb\u001b[0m\u001b[0;34m)\u001b[0m\u001b[0;34m\u001b[0m\u001b[0;34m\u001b[0m\u001b[0m\n\u001b[0m\u001b[1;32m    706\u001b[0m             \u001b[0;32mexcept\u001b[0m \u001b[0mtimeout\u001b[0m\u001b[0;34m:\u001b[0m\u001b[0;34m\u001b[0m\u001b[0;34m\u001b[0m\u001b[0m\n\u001b[1;32m    707\u001b[0m                 \u001b[0mself\u001b[0m\u001b[0;34m.\u001b[0m\u001b[0m_timeout_occurred\u001b[0m \u001b[0;34m=\u001b[0m \u001b[0;32mTrue\u001b[0m\u001b[0;34m\u001b[0m\u001b[0;34m\u001b[0m\u001b[0m\n",
            "\u001b[0;32m/usr/lib/python3.10/ssl.py\u001b[0m in \u001b[0;36mrecv_into\u001b[0;34m(self, buffer, nbytes, flags)\u001b[0m\n\u001b[1;32m   1301\u001b[0m                   \u001b[0;34m\"non-zero flags not allowed in calls to recv_into() on %s\"\u001b[0m \u001b[0;34m%\u001b[0m\u001b[0;34m\u001b[0m\u001b[0;34m\u001b[0m\u001b[0m\n\u001b[1;32m   1302\u001b[0m                   self.__class__)\n\u001b[0;32m-> 1303\u001b[0;31m             \u001b[0;32mreturn\u001b[0m \u001b[0mself\u001b[0m\u001b[0;34m.\u001b[0m\u001b[0mread\u001b[0m\u001b[0;34m(\u001b[0m\u001b[0mnbytes\u001b[0m\u001b[0;34m,\u001b[0m \u001b[0mbuffer\u001b[0m\u001b[0;34m)\u001b[0m\u001b[0;34m\u001b[0m\u001b[0;34m\u001b[0m\u001b[0m\n\u001b[0m\u001b[1;32m   1304\u001b[0m         \u001b[0;32melse\u001b[0m\u001b[0;34m:\u001b[0m\u001b[0;34m\u001b[0m\u001b[0;34m\u001b[0m\u001b[0m\n\u001b[1;32m   1305\u001b[0m             \u001b[0;32mreturn\u001b[0m \u001b[0msuper\u001b[0m\u001b[0;34m(\u001b[0m\u001b[0;34m)\u001b[0m\u001b[0;34m.\u001b[0m\u001b[0mrecv_into\u001b[0m\u001b[0;34m(\u001b[0m\u001b[0mbuffer\u001b[0m\u001b[0;34m,\u001b[0m \u001b[0mnbytes\u001b[0m\u001b[0;34m,\u001b[0m \u001b[0mflags\u001b[0m\u001b[0;34m)\u001b[0m\u001b[0;34m\u001b[0m\u001b[0;34m\u001b[0m\u001b[0m\n",
            "\u001b[0;32m/usr/lib/python3.10/ssl.py\u001b[0m in \u001b[0;36mread\u001b[0;34m(self, len, buffer)\u001b[0m\n\u001b[1;32m   1157\u001b[0m         \u001b[0;32mtry\u001b[0m\u001b[0;34m:\u001b[0m\u001b[0;34m\u001b[0m\u001b[0;34m\u001b[0m\u001b[0m\n\u001b[1;32m   1158\u001b[0m             \u001b[0;32mif\u001b[0m \u001b[0mbuffer\u001b[0m \u001b[0;32mis\u001b[0m \u001b[0;32mnot\u001b[0m \u001b[0;32mNone\u001b[0m\u001b[0;34m:\u001b[0m\u001b[0;34m\u001b[0m\u001b[0;34m\u001b[0m\u001b[0m\n\u001b[0;32m-> 1159\u001b[0;31m                 \u001b[0;32mreturn\u001b[0m \u001b[0mself\u001b[0m\u001b[0;34m.\u001b[0m\u001b[0m_sslobj\u001b[0m\u001b[0;34m.\u001b[0m\u001b[0mread\u001b[0m\u001b[0;34m(\u001b[0m\u001b[0mlen\u001b[0m\u001b[0;34m,\u001b[0m \u001b[0mbuffer\u001b[0m\u001b[0;34m)\u001b[0m\u001b[0;34m\u001b[0m\u001b[0;34m\u001b[0m\u001b[0m\n\u001b[0m\u001b[1;32m   1160\u001b[0m             \u001b[0;32melse\u001b[0m\u001b[0;34m:\u001b[0m\u001b[0;34m\u001b[0m\u001b[0;34m\u001b[0m\u001b[0m\n\u001b[1;32m   1161\u001b[0m                 \u001b[0;32mreturn\u001b[0m \u001b[0mself\u001b[0m\u001b[0;34m.\u001b[0m\u001b[0m_sslobj\u001b[0m\u001b[0;34m.\u001b[0m\u001b[0mread\u001b[0m\u001b[0;34m(\u001b[0m\u001b[0mlen\u001b[0m\u001b[0;34m)\u001b[0m\u001b[0;34m\u001b[0m\u001b[0;34m\u001b[0m\u001b[0m\n",
            "\u001b[0;31mKeyboardInterrupt\u001b[0m: "
          ]
        }
      ]
    },
    {
      "cell_type": "code",
      "source": [
        "df_all = df_teams.merge(df_articles, on='Team', how='inner')"
      ],
      "metadata": {
        "id": "l6gfCQ_elhwU"
      },
      "execution_count": null,
      "outputs": []
    },
    {
      "cell_type": "code",
      "source": [
        "print(df_all.columns)"
      ],
      "metadata": {
        "id": "vEhA6QMpskr8"
      },
      "execution_count": null,
      "outputs": []
    },
    {
      "cell_type": "markdown",
      "source": [
        "## Filter out bad data"
      ],
      "metadata": {
        "id": "Bl-DLnnZqroP"
      }
    },
    {
      "cell_type": "code",
      "source": [
        "print((df_all['Content'][1]))"
      ],
      "metadata": {
        "id": "RrRUm_1atQJi"
      },
      "execution_count": null,
      "outputs": []
    },
    {
      "cell_type": "code",
      "source": [
        "df_all = df_all[df_all[\"Content\"] != \"URL Not Parsed\"]"
      ],
      "metadata": {
        "id": "LroImPyAsfiV"
      },
      "execution_count": null,
      "outputs": []
    },
    {
      "cell_type": "markdown",
      "source": [
        "## Filter out irrelevant articles by using the embedding of the title"
      ],
      "metadata": {
        "id": "KiEXXbRYiT0S"
      }
    },
    {
      "cell_type": "code",
      "source": [
        "from sentence_transformers import SentenceTransformer\n",
        "import pandas as pd\n",
        "from sklearn.metrics.pairwise import cosine_similarity\n",
        "import numpy as np\n",
        "\n",
        "model = SentenceTransformer('paraphrase-MiniLM-L6-v2')\n",
        "\n",
        "reference_query = \"Looking ahead to football season preview and predictions. Get to know the team. Not past tense\"\n",
        "\n",
        "def get_embedding(text):\n",
        "    embedding = model.encode([text])\n",
        "    return embedding\n",
        "\n",
        "reference_embedding = get_embedding(reference_query)\n",
        "\n",
        "list_bad_titles = []\n",
        "avg_embedding = []\n",
        "\n",
        "\n",
        "def get_similarity(title):\n",
        "    title_embedding = get_embedding(title)\n",
        "    similarity_score = cosine_similarity(reference_embedding, title_embedding)[0][0]\n",
        "    return similarity_score\n",
        "\n",
        "def adjust_score_based_on_keywords(title, score):\n",
        "    keywords = ['season', 'preview', 'prediction', 'predictions', 'examining', 'reasons']\n",
        "    if any(keyword in title.lower() for keyword in keywords):\n",
        "        score *= 1.5\n",
        "    if score < 0.15:\n",
        "        list_bad_titles.append((title, score))\n",
        "    avg_embedding.append(score)\n",
        "    return score\n",
        "\n",
        "df_all['similarity'] = df_all['Title'].apply(lambda title: adjust_score_based_on_keywords(title, get_similarity(title)))\n",
        "\n",
        "print(f\"Mean of the embeddings: {np.mean(avg_embedding)}\")\n",
        "print(len(list_bad_titles))\n",
        "print(list_bad_titles)\n"
      ],
      "metadata": {
        "id": "46VA1HhPjTLC"
      },
      "execution_count": null,
      "outputs": []
    },
    {
      "cell_type": "markdown",
      "source": [
        "## Perform sentiment Analysis on articles"
      ],
      "metadata": {
        "id": "4_tHRWUEsJrq"
      }
    },
    {
      "cell_type": "code",
      "source": [
        "import pandas as pd\n",
        "from transformers import pipeline\n",
        "\n",
        "counter = 0\n",
        "\n",
        "\n",
        "sentiment_pipeline = pipeline(\"sentiment-analysis\")\n",
        "df_all['Sentiment'] = None\n",
        "\n",
        "def get_sentiment(text):\n",
        "    result = sentiment_pipeline(text)\n",
        "    return result[0]['label'], result[0]['score']\n",
        "\n",
        "def analyze_content_sentiment(content):\n",
        "    chunk_size = 1000\n",
        "    num_chunks = (len(content) // chunk_size) + 1\n",
        "    total_score = 0\n",
        "    count = 0\n",
        "\n",
        "    for i in range(num_chunks):\n",
        "        chunk = content[i * chunk_size: (i + 1) * chunk_size]\n",
        "        sentiment_label, sentiment_score = get_sentiment(chunk)\n",
        "\n",
        "        if sentiment_label == 'NEGATIVE':\n",
        "            sentiment_score *= -1\n",
        "        total_score += sentiment_score\n",
        "        count += 1\n",
        "\n",
        "    avg_sentiment_score = total_score / count if count > 0 else 0\n",
        "    return avg_sentiment_score\n",
        "\n",
        "for index, row in df_all.iterrows():\n",
        "    # if index == 80:\n",
        "    #   break\n",
        "    content = row['Content']\n",
        "    avg_sentiment_score = analyze_content_sentiment(content)\n",
        "    df_all.at[index, 'Sentiment'] = avg_sentiment_score\n",
        "    counter += 1\n",
        "    print(counter)\n",
        "\n",
        "print(df_all)\n"
      ],
      "metadata": {
        "id": "gAyO-xHQvJTf"
      },
      "execution_count": null,
      "outputs": []
    },
    {
      "cell_type": "code",
      "source": [
        "df_all.to_csv(\"all_teams_data_sentiment.csv\")"
      ],
      "metadata": {
        "id": "qzLTjXG_G6l9"
      },
      "execution_count": null,
      "outputs": []
    },
    {
      "cell_type": "code",
      "source": [
        "df_team_sentiment_avg = df_all.groupby('Team', as_index=False).agg({\n",
        "    'Sentiment': 'mean',\n",
        "    'Win Diff': lambda x: x.mode()[0],\n",
        "    'Bet Type': lambda x: x.mode()[0],\n",
        "})\n",
        "\n",
        "df_team_sentiment_avg.rename(columns={'Sentiment': 'Sentiment_Avg'}, inplace=True)\n",
        "\n",
        "df_team_sentiment_avg = df_team_sentiment_avg.reset_index(drop=True)\n",
        "\n",
        "for index, row in df_team_sentiment_avg.iterrows():\n",
        "    # print(row[\"Bet Type\"])\n",
        "    if row[\"Bet Type\"] != 'Under' and row[\"Bet Type\"] != 'Over':\n",
        "        df_team_sentiment_avg.drop(index, inplace=True)\n",
        "\n",
        "df_team_sentiment_avg.to_csv(\"all_teams_data_sentiment_full.csv\")"
      ],
      "metadata": {
        "id": "TqfpUPIZE-mu"
      },
      "execution_count": null,
      "outputs": []
    },
    {
      "cell_type": "markdown",
      "source": [
        "## LOAD FROM HERE AFTER IMPORTS: Sentiment Analysis DF completed"
      ],
      "metadata": {
        "id": "23R6iY8Nq07t"
      }
    },
    {
      "cell_type": "code",
      "source": [
        "df_team_sentiment_avg = pd.read_csv(\"all_teams_data_sentiment_full.csv\")\n",
        "print(df_team_sentiment_avg)"
      ],
      "metadata": {
        "id": "tmf1B1k-B0kj",
        "colab": {
          "base_uri": "https://localhost:8080/"
        },
        "outputId": "8514cdf0-333b-4484-c1f8-ae3222d0a30d"
      },
      "execution_count": null,
      "outputs": [
        {
          "output_type": "stream",
          "name": "stdout",
          "text": [
            "     Unnamed: 0               Team  Sentiment_Avg  Win Diff Bet Type\n",
            "0             0          Air Force      -0.276178      -0.5    Under\n",
            "1             1              Akron      -0.476147      -2.0    Under\n",
            "2             2            Alabama      -0.219753       1.0     Over\n",
            "3             3  Appalachian State      -0.021634       1.0     Over\n",
            "4             4            Arizona      -0.110086       4.0     Over\n",
            "..          ...                ...            ...       ...      ...\n",
            "116         116      West Virginia      -0.731522       3.5     Over\n",
            "117         117   Western Kentucky      -0.234153      -1.5    Under\n",
            "118         118   Western Michigan      -0.357670       0.5     Over\n",
            "119         119          Wisconsin      -0.200952      -1.5    Under\n",
            "120         120            Wyoming      -0.189214       2.0     Over\n",
            "\n",
            "[121 rows x 5 columns]\n"
          ]
        }
      ]
    },
    {
      "cell_type": "code",
      "source": [
        "import pandas as pd\n",
        "from sklearn.linear_model import LinearRegression\n",
        "from sklearn.model_selection import train_test_split\n",
        "from sklearn.metrics import mean_squared_error, r2_score\n",
        "\n",
        "df = df_team_sentiment_avg\n",
        "X = df[['Sentiment_Avg']]\n",
        "y = df['Win Diff']\n",
        "\n",
        "X_train, X_test, y_train, y_test = train_test_split(X, y, test_size=0.3, random_state=42)\n",
        "model = LinearRegression()\n",
        "model.fit(X_train, y_train)\n",
        "\n",
        "y_pred = model.predict(X_test)\n",
        "\n",
        "mse = mean_squared_error(y_test, y_pred)\n",
        "r2 = r2_score(y_test, y_pred)\n",
        "\n",
        "print(f\"Mean Squared Error: {mse}\")\n",
        "print(f\"R-squared: {r2}\")"
      ],
      "metadata": {
        "id": "ApmP95wGBAOw",
        "colab": {
          "base_uri": "https://localhost:8080/"
        },
        "outputId": "e12f1b14-fb06-4e2e-de19-475344380393"
      },
      "execution_count": null,
      "outputs": [
        {
          "output_type": "stream",
          "name": "stdout",
          "text": [
            "Mean Squared Error: 3.3171764072001624\n",
            "R-squared: -0.02545207213662004\n"
          ]
        }
      ]
    },
    {
      "cell_type": "markdown",
      "source": [
        "## Show the overall accuracy if making a binary over / under prediction"
      ],
      "metadata": {
        "id": "4wJwVRx1IXP3"
      }
    },
    {
      "cell_type": "code",
      "source": [
        "from sklearn.metrics import accuracy_score\n",
        "\n",
        "y_pred_bet = ['Under' if pred < 0 else 'Over' for pred in y_pred]\n",
        "\n",
        "accuracy = accuracy_score(y_test.apply(lambda x: 'Under' if x < 0 else 'Over'), y_pred_bet)\n",
        "\n",
        "print(f\"Accuracy: {accuracy}\")"
      ],
      "metadata": {
        "id": "s73EX2BcySfV",
        "colab": {
          "base_uri": "https://localhost:8080/"
        },
        "outputId": "a6a369ca-5985-4303-ae2f-1ac4b4e22ffb"
      },
      "execution_count": null,
      "outputs": [
        {
          "output_type": "stream",
          "name": "stdout",
          "text": [
            "Accuracy: 0.5135135135135135\n"
          ]
        }
      ]
    },
    {
      "cell_type": "code",
      "source": [
        "import matplotlib.pyplot as plt\n",
        "import seaborn as sns\n",
        "from sklearn.metrics import mean_absolute_error\n",
        "\n",
        "plt.figure(figsize=(10, 6))\n",
        "plt.scatter(y_test, y_pred, color='blue', alpha=0.5)\n",
        "plt.plot([y_test.min(), y_test.max()], [y_test.min(), y_test.max()], 'k--', lw=2)\n",
        "plt.title(\"Predicted vs Actual Win Diff\")\n",
        "plt.xlabel(\"Actual Win Diff\")\n",
        "plt.ylabel(\"Predicted Win Diff\")\n",
        "plt.show()\n",
        "\n",
        "residuals = y_test - y_pred\n",
        "plt.figure(figsize=(10, 6))\n",
        "sns.residplot(x=y_pred, y=residuals, lowess=True, color='blue', line_kws={'color': 'red', 'lw': 2})\n",
        "plt.title(\"Residual Plot\")\n",
        "plt.xlabel(\"Predicted Win Diff\")\n",
        "plt.ylabel(\"Residuals\")\n",
        "plt.show()\n"
      ],
      "metadata": {
        "id": "RylRKWwdiyFJ",
        "colab": {
          "base_uri": "https://localhost:8080/",
          "height": 1000
        },
        "outputId": "db59b718-99d8-46b4-d305-371fc7e9360f"
      },
      "execution_count": null,
      "outputs": [
        {
          "output_type": "display_data",
          "data": {
            "text/plain": [
              "<Figure size 1000x600 with 1 Axes>"
            ],
            "image/png": "[encoded data removed]"
          },
          "metadata": {}
        },
        {
          "output_type": "display_data",
          "data": {
            "text/plain": [
              "<Figure size 1000x600 with 1 Axes>"
            ],
            "image/png": "[encoded data removed]"
          },
          "metadata": {}
        }
      ]
    },
    {
      "cell_type": "code",
      "source": [
        "import matplotlib.pyplot as plt\n",
        "import seaborn as sns\n",
        "from sklearn.metrics import confusion_matrix, ConfusionMatrixDisplay, accuracy_score\n",
        "\n",
        "y_test_bet = y_test.apply(lambda x: 'Under' if x < 0 else 'Over')\n",
        "y_pred_bet = ['Under' if pred < 0 else 'Over' for pred in y_pred]\n",
        "\n",
        "cm = confusion_matrix(y_test_bet, y_pred_bet, labels=['Under', 'Over'])\n",
        "\n",
        "plt.figure(figsize=(8, 6))\n",
        "sns.heatmap(cm, annot=True, fmt='d', cmap='Blues', xticklabels=['Under', 'Over'], yticklabels=['Under', 'Over'])\n",
        "plt.xlabel(\"Predicted Bet Type\")\n",
        "plt.ylabel(\"Actual Bet Type\")\n",
        "plt.title(\"Model 1: Confusion Matrix\")\n",
        "plt.show()\n"
      ],
      "metadata": {
        "id": "64BOLvpLjIlT",
        "colab": {
          "base_uri": "https://localhost:8080/",
          "height": 564
        },
        "outputId": "648fc565-1018-49a0-d87b-749edec2953d"
      },
      "execution_count": null,
      "outputs": [
        {
          "output_type": "display_data",
          "data": {
            "text/plain": [
              "<Figure size 800x600 with 2 Axes>"
            ],
            "image/png": "[encoded data removed]"
          },
          "metadata": {}
        }
      ]
    },
    {
      "cell_type": "markdown",
      "source": [
        "## Model number 2: Statistical prediction"
      ],
      "metadata": {
        "id": "F_SsmDmgolKt"
      }
    },
    {
      "cell_type": "markdown",
      "source": [
        "### Webscrape ESPN for 2022 statistics (year prior)"
      ],
      "metadata": {
        "id": "RnsmAfEuoqbm"
      }
    },
    {
      "cell_type": "markdown",
      "source": [
        "### Format returing starters data"
      ],
      "metadata": {
        "id": "cfMjdEjcDz1O"
      }
    },
    {
      "cell_type": "code",
      "source": [
        "raw_data_returning_starters =\"\"\"1. Florida St.\n",
        "2. Kansas\n",
        "3. Florida Atlantic\n",
        "4. Wyoming\n",
        "5. Michigan\n",
        "6. Connecticut\n",
        "7. Texas A&M\n",
        "8. Boston Coll.\n",
        "9. Missouri\n",
        "10. Temple\n",
        "11. Toledo\n",
        "12. Northern Illinois\n",
        "13. South Alabama\n",
        "14. USC\n",
        "15. Massachusetts\n",
        "16. Utah\n",
        "17. Navy\n",
        "18. Florida International\n",
        "19. Texas\n",
        "20. North Texas\n",
        "21. Rice\n",
        "22. Washington\n",
        "23. Rutgers\n",
        "24. Syracuse\n",
        "25. Coastal Carolina\n",
        "26. Louisiana Tech\n",
        "27. Wisconsin\n",
        "28. Auburn\n",
        "29. Sam Houston\n",
        "30. Ole Miss\n",
        "31. Tulane\n",
        "32. LSU\n",
        "33. Duke\n",
        "34. James Madison\n",
        "35. Miami (FL)\n",
        "36. Clemson\n",
        "37. Middle Tennessee State\n",
        "38. Virginia Tech\n",
        "39. Nebraska\n",
        "40. Miami (OH)\n",
        "41. Indiana\n",
        "42. UNLV\n",
        "43. North Carolina\n",
        "44. Notre Dame\n",
        "45. Michigan St.\n",
        "46. California\n",
        "47. Ga. Tech\n",
        "48. Ohio St.\n",
        "49. Boise St.\n",
        "50. Louisiana\n",
        "51. UCF\n",
        "52. Central Michigan\n",
        "53. Oregon St.\n",
        "54. Oregon\n",
        "55. UTEP\n",
        "56. Penn St.\n",
        "57. Purdue\n",
        "58. Vanderbilt\n",
        "59. UCLA\n",
        "60. Army\n",
        "61. New Mexico\n",
        "62. Colorado St.\n",
        "63. New Mexico State\n",
        "64. Texas Tech\n",
        "65. Maryland\n",
        "66. West Virginia\n",
        "67. Iowa St.\n",
        "68. Memphis\n",
        "69. Tennessee\n",
        "70. Brigham Young\n",
        "71. Illinois\n",
        "72. J'ville St.\n",
        "73. Kentucky\n",
        "74. Akron\n",
        "75. Eastern Michigan\n",
        "76. Kansas St.\n",
        "77. Oklahoma\n",
        "78. Washington State\n",
        "79. Marshall\n",
        "80. Georgia\n",
        "81. Southern Mississippi\n",
        "82. Houston\n",
        "83. Troy\n",
        "84. Fresno St.\n",
        "85. Bowling Green State\n",
        "86. Air Force\n",
        "87. Minnesota\n",
        "88. Old Dominion\n",
        "89. Oklahoma St.\n",
        "90. Arizona\n",
        "91. Mississippi State\n",
        "92. Ball St.\n",
        "93. Colorado\n",
        "94. Iowa\n",
        "95. South Florida\n",
        "96. Northwestern\n",
        "97. San Diego State\n",
        "98. North Carolina State\n",
        "99. Louisville\n",
        "100. Baylor\n",
        "101. Arkansas St.\n",
        "102. South Carolina\n",
        "103. Utah St.\n",
        "104. Liberty\n",
        "105. Western Kentucky\n",
        "106. Arkansas\n",
        "107. Florida\n",
        "108. Nevada\n",
        "109. Arizona St.\n",
        "110. Buffalo\n",
        "111. San Jose State\n",
        "112. Wake Forest\n",
        "113. Louisiana-Monroe\n",
        "114. Ohio\n",
        "115. UTSA\n",
        "116. Virginia\n",
        "117. SMU\n",
        "118. TCU\n",
        "119. Pitt\n",
        "120. Charlotte\n",
        "121. Western Michigan\n",
        "122. Hawaii\n",
        "123. Ga. Southern\n",
        "124. Cincinnati\n",
        "125. Alabama\n",
        "126. Tulsa\n",
        "127. UAB\n",
        "128. Texas St.\n",
        "129. Stanford\n",
        "130. East Carolina\n",
        "131. Appalachian State\n",
        "132. Georgia St.\n",
        "133. Kent St.\"\"\"\n",
        "\n",
        "returning_starters = []\n",
        "for line in raw_data_returning_starters.split('\\n'):\n",
        "  temp = line\n",
        "  temp = temp.replace(\"St.\", 'State')\n",
        "  temp = temp.replace(\"Coll\", 'College')\n",
        "  temp = temp.replace('.', ':', 1)\n",
        "  temp = temp.replace('.', '')\n",
        "  temp = temp.replace('Ga', 'Georgia')\n",
        "  temp = temp.replace('GA', 'Georgia')\n",
        "  temp  = temp.split(':')\n",
        "  temp[0] = 1 - (int(temp[0]) / 133.01)\n",
        "  returning_starters.append((temp[1].strip(), temp[0])) ## Team, Percentile (of returning starters)\n",
        "returning_starters = returning_starters[:len(returning_starters) - 1]\n",
        "print(returning_starters)"
      ],
      "metadata": {
        "colab": {
          "base_uri": "https://localhost:8080/"
        },
        "id": "XMVIx5djD479",
        "outputId": "622f7c7d-deaf-4687-f943-1b14daa32148"
      },
      "execution_count": null,
      "outputs": [
        {
          "output_type": "stream",
          "name": "stdout",
          "text": [
            "[('Florida State', 0.9924817682880986), ('Kansas', 0.9849635365761973), ('Florida Atlantic', 0.9774453048642959), ('Wyoming', 0.9699270731523946), ('Michigan', 0.9624088414404932), ('Connecticut', 0.9548906097285919), ('Texas A&M', 0.9473723780166905), ('Boston College', 0.9398541463047891), ('Missouri', 0.9323359145928878), ('Temple', 0.9248176828809864), ('Toledo', 0.9172994511690851), ('Northern Illinois', 0.9097812194571837), ('South Alabama', 0.9022629877452824), ('USC', 0.894744756033381), ('Massachusetts', 0.8872265243214796), ('Utah', 0.8797082926095783), ('Navy', 0.8721900608976769), ('Florida International', 0.8646718291857756), ('Texas', 0.8571535974738741), ('North Texas', 0.8496353657619727), ('Rice', 0.8421171340500714), ('Washington', 0.83459890233817), ('Rutgers', 0.8270806706262687), ('Syracuse', 0.8195624389143673), ('Coastal Carolina', 0.812044207202466), ('Louisiana Tech', 0.8045259754905646), ('Wisconsin', 0.7970077437786632), ('Auburn', 0.7894895120667619), ('Sam Houston', 0.7819712803548605), ('Ole Miss', 0.7744530486429592), ('Tulane', 0.7669348169310578), ('LSU', 0.7594165852191564), ('Duke', 0.7518983535072551), ('James Madison', 0.7443801217953537), ('Miami (FL)', 0.7368618900834524), ('Clemson', 0.729343658371551), ('Middle Tennessee State', 0.7218254266596495), ('Virginia Tech', 0.7143071949477482), ('Nebraska', 0.7067889632358468), ('Miami (OH)', 0.6992707315239455), ('Indiana', 0.6917524998120441), ('UNLV', 0.6842342681001428), ('North Carolina', 0.6767160363882414), ('Notre Dame', 0.66919780467634), ('Michigan State', 0.6616795729644387), ('California', 0.6541613412525373), ('Georgia Tech', 0.646643109540636), ('Ohio State', 0.6391248778287346), ('Boise State', 0.6316066461168333), ('Louisiana', 0.6240884144049319), ('UCF', 0.6165701826930305), ('Central Michigan', 0.6090519509811292), ('Oregon State', 0.6015337192692278), ('Oregon', 0.5940154875573265), ('UTEP', 0.5864972558454251), ('Penn State', 0.5789790241335238), ('Purdue', 0.5714607924216224), ('Vanderbilt', 0.563942560709721), ('UCLA', 0.5564243289978197), ('Army', 0.5489060972859183), ('New Mexico', 0.541387865574017), ('Colorado State', 0.5338696338621156), ('New Mexico State', 0.5263514021502143), ('Texas Tech', 0.5188331704383129), ('Maryland', 0.5113149387264115), ('West Virginia', 0.5037967070145102), ('Iowa State', 0.4962784753026088), ('Memphis', 0.48876024359070747), ('Tennessee', 0.4812420118788061), ('Brigham Young', 0.47372378016690475), ('Illinois', 0.4662055484550034), (\"J'ville State\", 0.45868731674310204), ('Kentucky', 0.4511690850312007), ('Akron', 0.4436508533192992), ('Eastern Michigan', 0.43613262160739785), ('Kansas State', 0.4286143898954965), ('Oklahoma', 0.42109615818359514), ('Washington State', 0.4135779264716938), ('Marshall', 0.4060596947597924), ('Georgia', 0.39854146304789106), ('Southern Mississippi', 0.3910232313359897), ('Houston', 0.38350499962408835), ('Troy', 0.375986767912187), ('Fresno State', 0.36846853620028563), ('Bowling Green State', 0.3609503044883843), ('Air Force', 0.3534320727764829), ('Minnesota', 0.34591384106458156), ('Old Dominion', 0.3383956093526802), ('Oklahoma State', 0.33087737764077885), ('Arizona', 0.3233591459288775), ('Mississippi State', 0.31584091421697613), ('Ball State', 0.3083226825050748), ('Colorado', 0.3008044507931734), ('Iowa', 0.29328621908127206), ('South Florida', 0.2857679873693707), ('Northwestern', 0.27824975565746934), ('San Diego State', 0.270731523945568), ('North Carolina State', 0.26321329223366663), ('Louisville', 0.25569506052176527), ('Baylor', 0.24817682880986391), ('Arkansas State', 0.24065859709796256), ('South Carolina', 0.2331403653860612), ('Utah State', 0.22562213367415973), ('Liberty', 0.21810390196225837), ('Western Kentucky', 0.21058567025035702), ('Arkansas', 0.20306743853845566), ('Florida', 0.1955492068265543), ('Nevada', 0.18803097511465294), ('Arizona State', 0.18051274340275159), ('Buffalo', 0.17299451169085023), ('San Jose State', 0.16547627997894887), ('Wake Forest', 0.1579580482670475), ('Louisiana-Monroe', 0.15043981655514616), ('Ohio', 0.1429215848432448), ('UTSA', 0.13540335313134344), ('Virginia', 0.12788512141944208), ('SMU', 0.12036688970754073), ('TCU', 0.11284865799563937), ('Pitt', 0.10533042628373801), ('Charlotte', 0.09781219457183665), ('Western Michigan', 0.0902939628599353), ('Hawaii', 0.08277573114803394), ('Georgia Southern', 0.07525749943613258), ('Cincinnati', 0.06773926772423122), ('Alabama', 0.060221036012329865), ('Tulsa', 0.05270280430042851), ('UAB', 0.04518457258852715), ('Texas State', 0.03766634087662579), ('Stanford', 0.030148109164724435), ('East Carolina', 0.022629877452823077), ('Appalachian State', 0.01511164574092172), ('Georgia State', 0.007593414029020251)]\n"
          ]
        }
      ]
    },
    {
      "cell_type": "code",
      "source": [
        "pd.set_option('display.max_rows', None)  # Show all rows\n",
        "pd.set_option('display.max_columns', None)  # Show all columns\n",
        "pd.set_option('display.width', None)  # Avoid line wrapping\n",
        "pd.set_option('display.max_colwidth', None)  # Show full content in each column\n",
        "\n",
        "\n",
        "df_team_stats_offense = pd.read_csv('2022_offensive_stats.csv')\n",
        "df_team_stats_defense = pd.read_csv('2022_defensive_stats.csv')"
      ],
      "metadata": {
        "id": "uX_LXUkzdwAM"
      },
      "execution_count": null,
      "outputs": []
    },
    {
      "cell_type": "code",
      "source": [
        "# Rename specific columns for offense\n",
        "new_columns_offense = df_team_stats_offense.columns.tolist()\n",
        "new_columns_offense[0] = 'Team Name'\n",
        "for i in range(1, len(new_columns_offense)):\n",
        "    new_columns_offense[i] = 'Offense: ' + new_columns_offense[i]\n",
        "df_team_stats_offense.columns = new_columns_offense"
      ],
      "metadata": {
        "id": "T0lXJhSpoojF"
      },
      "execution_count": null,
      "outputs": []
    },
    {
      "cell_type": "code",
      "source": [
        "# Rename specific columns for defense\n",
        "new_columns_defense = df_team_stats_defense.columns.tolist()\n",
        "new_columns_defense[0] = 'Team Name'\n",
        "for i in range(1, len(new_columns_defense)):\n",
        "    new_columns_defense[i] = 'Defense: ' + new_columns_defense[i]\n",
        "df_team_stats_defense.columns = new_columns_defense\n",
        "print(df_team_stats_offense)"
      ],
      "metadata": {
        "colab": {
          "base_uri": "https://localhost:8080/"
        },
        "id": "dRb8UiIForX_",
        "outputId": "7623a3f3-ed21-437c-dce4-6d311bfa50ff"
      },
      "execution_count": null,
      "outputs": [
        {
          "output_type": "stream",
          "name": "stdout",
          "text": [
            "                  Team Name  Offense: Passing  Offense: Rushing  Offense: Total Offense  \\\n",
            "0                 Tennessee                13              46.1                    22.3   \n",
            "1                Ohio State                13              44.2                    21.1   \n",
            "2                       USC                14              41.4                    24.6   \n",
            "3                   Alabama                13              41.1                    21.5   \n",
            "4                   Georgia                15              41.1                    22.4   \n",
            "5                  Michigan                14              40.4                    17.0   \n",
            "6                Washington                13              39.7                    28.7   \n",
            "7                      UCLA                13              39.2                    22.5   \n",
            "8                    Oregon                13              38.8                    23.7   \n",
            "9                       TCU                15              38.8                    19.5   \n",
            "10                     Utah                14              38.6                    20.6   \n",
            "11                      SMU                13              37.2                    25.6   \n",
            "12            James Madison                11              37.0                    18.3   \n",
            "13                     UTSA                14              36.8                    24.4   \n",
            "14         Western Kentucky                14              36.4                    28.6   \n",
            "15            Florida State                13              36.1                    19.2   \n",
            "16                  Houston                13              36.1                    25.9   \n",
            "17              Wake Forest                13              36.1                    23.2   \n",
            "18                   Tulane                14              36.0                    17.2   \n",
            "19               Penn State                13              35.8                    20.8   \n",
            "20                   Kansas                13              35.6                    18.6   \n",
            "21                  Memphis                13              35.3                    22.3   \n",
            "22        Appalachian State                12              34.9                    18.8   \n",
            "23                      LSU                14              34.5                    23.0   \n",
            "24                    Texas                13              34.5                    19.1   \n",
            "25           North Carolina                14              34.4                    24.6   \n",
            "26               Texas Tech                13              34.2                    26.8   \n",
            "27              North Texas                14              33.8                    17.2   \n",
            "28                 Ole Miss                13              33.5                    18.4   \n",
            "29                  Clemson                14              33.2                    21.3   \n",
            "30                      UCF                14              32.9                    20.8   \n",
            "31                     Duke                13              32.8                    19.6   \n",
            "32                 Oklahoma                13              32.8                    19.3   \n",
            "33         Georgia Southern                13              32.7                    28.8   \n",
            "34                 Arkansas                13              32.5                    17.8   \n",
            "35            East Carolina                13              32.5                    24.8   \n",
            "36             Kansas State                14              32.3                    17.3   \n",
            "37                   Baylor                13              32.2                    19.0   \n",
            "38             Oregon State                13              32.2                    15.5   \n",
            "39           South Carolina                13              32.2                    21.6   \n",
            "40               Notre Dame                13              31.8                    16.2   \n",
            "41                     Ohio                14              31.8                    21.6   \n",
            "42        Mississippi State                13              31.6                    32.9   \n",
            "43            Brigham Young                13              31.3                    19.8   \n",
            "44                     Pitt                13              31.3                    17.2   \n",
            "45                   Toledo                14              31.3                    17.6   \n",
            "46            South Alabama                13              31.2                    22.3   \n",
            "47                  Arizona                12              30.8                    23.6   \n",
            "48             Fresno State                14              30.6                    24.0   \n",
            "49           Oklahoma State                13              30.6                    22.5   \n",
            "50                    Tulsa                12              30.6                    20.1   \n",
            "51            West Virginia                12              30.6                    21.2   \n",
            "52                      UAB                13              30.1                    14.9   \n",
            "53            Georgia State                12              30.0                    14.5   \n",
            "54         Eastern Michigan                13              29.8                    18.8   \n",
            "55         Florida Atlantic                12              29.8                    18.1   \n",
            "56              Boise State                14              29.5                    16.4   \n",
            "57                  Florida                13              29.5                    15.3   \n",
            "58               Cincinnati                13              29.2                    19.1   \n",
            "59         Coastal Carolina                13              29.1                    18.2   \n",
            "60           Louisiana Tech                12              29.0                    21.2   \n",
            "61   Middle Tennessee State                13              28.8                    26.2   \n",
            "62                     Army                12              28.6                     3.5   \n",
            "63                  Buffalo                13              28.5                    21.0   \n",
            "64               Kent State                12              28.4                    16.2   \n",
            "65                 Maryland                13              28.2                    22.6   \n",
            "66                Minnesota                13              28.2                    13.2   \n",
            "67            South Florida                12              28.0                    15.7   \n",
            "68                Air Force                13              27.8                     3.2   \n",
            "69                 Syracuse                13              27.7                    17.5   \n",
            "70                  Liberty                13              27.5                    17.7   \n",
            "71           San Jose State                12              27.4                    21.7   \n",
            "72        Northern Illinois                12              27.3                    15.4   \n",
            "73               Louisville                13              26.9                    16.8   \n",
            "74                   Purdue                14              26.6                    26.4   \n",
            "75                     UNLV                12              26.3                    18.9   \n",
            "76                Wisconsin                13              26.3                    14.5   \n",
            "77                Louisiana                13              26.2                    19.5   \n",
            "78            Arizona State                12              26.1                    22.5   \n",
            "79         Washington State                13              26.1                    24.8   \n",
            "80                     Troy                14              25.6                    17.9   \n",
            "81         New Mexico State                13              25.5                    12.2   \n",
            "82     Southern Mississippi                13              25.3                    14.7   \n",
            "83                     Rice                13              25.2                    17.9   \n",
            "84           Arkansas State                12              25.0                    20.6   \n",
            "85                   Auburn                12              24.8                    13.3   \n",
            "86         Central Michigan                12              24.8                    18.3   \n",
            "87                 Missouri                13              24.8                    19.3   \n",
            "88               Vanderbilt                12              24.6                    16.7   \n",
            "89                 Marshall                13              24.5                    17.3   \n",
            "90                Charlotte                12              24.4                    21.4   \n",
            "91           Michigan State                12              24.4                    21.5   \n",
            "92                     UTEP                12              24.4                    16.8   \n",
            "93     North Carolina State                13              24.3                    20.7   \n",
            "94                 Illinois                13              24.2                    21.2   \n",
            "95               California                12              23.9                    24.3   \n",
            "96               Miami (FL)                12              23.6                    21.3   \n",
            "97      Bowling Green State                13              23.5                    20.5   \n",
            "98               Ball State                12              23.3                    23.9   \n",
            "99                  Indiana                12              23.3                    21.8   \n",
            "100               Texas A&M                12              22.8                    18.3   \n",
            "101                Nebraska                12              22.6                    17.1   \n",
            "102        Louisiana-Monroe                12              22.3                    18.4   \n",
            "103              Utah State                13              22.2                    17.7   \n",
            "104                    Navy                12              21.9                     4.5   \n",
            "105                  Temple                12              21.9                    24.0   \n",
            "106                   Akron                12              21.8                    26.9   \n",
            "107         San Diego State                13              21.5                    14.3   \n",
            "108                Stanford                12              21.3                    22.9   \n",
            "109                 Wyoming                13              21.2                    12.0   \n",
            "110             Texas State                12              21.1                    22.9   \n",
            "111                Kentucky                13              20.4                    17.2   \n",
            "112              Iowa State                12              20.2                    26.1   \n",
            "113              Miami (OH)                13              20.2                    14.2   \n",
            "114                  Hawaii                13              19.8                    20.1   \n",
            "115            Old Dominion                12              19.5                    19.8   \n",
            "116             Connecticut                13              19.4                    12.1   \n",
            "117           Virginia Tech                11              19.3                    18.5   \n",
            "118        Western Michigan                12              19.0                    13.9   \n",
            "119                  Nevada                12              18.8                    18.1   \n",
            "120   Florida International                12              18.7                    22.6   \n",
            "121          Boston College                12              17.8                    21.8   \n",
            "122                    Iowa                13              17.7                    14.8   \n",
            "123                 Rutgers                12              17.4                    14.0   \n",
            "124            Georgia Tech                12              17.2                    18.3   \n",
            "125                Virginia                10              17.0                    18.5   \n",
            "126                Colorado                12              15.4                    14.9   \n",
            "127            Northwestern                12              13.8                    20.4   \n",
            "128          Colorado State                12              13.2                    16.9   \n",
            "129              New Mexico                12              13.1                    11.4   \n",
            "130           Massachusetts                12              12.5                    11.3   \n",
            "\n",
            "     Offense: First Downs  Offense: Penalties  Offense: Turnovers  Offense: Rk  Offense: School  \\\n",
            "0                    32.5                68.7               326.1          2.9             40.2   \n",
            "1                    31.5                66.8               298.3          3.2             35.8   \n",
            "2                    36.8                67.0               335.4          3.1             33.8   \n",
            "3                    33.7                63.9               281.5          2.8             35.2   \n",
            "4                    32.9                68.2               295.9          2.1             37.1   \n",
            "5                    26.4                64.3               219.9          1.7             42.9   \n",
            "6                    44.2                64.9               369.8          2.5             30.8   \n",
            "7                    32.3                69.5               266.4          2.2             39.5   \n",
            "8                    33.2                71.3               284.8          2.3             39.1   \n",
            "9                    30.3                64.3               261.7          2.2             37.7   \n",
            "10                   31.9                64.6               249.2          2.2             40.0   \n",
            "11                   39.5                64.9               316.7          2.8             37.8   \n",
            "12                   29.8                61.3               265.7          2.5             43.5   \n",
            "13                   35.9                67.8               300.7          2.4             38.8   \n",
            "14                   44.5                64.4               352.2          3.1             29.6   \n",
            "15                   30.4                63.0               270.2          2.2             39.2   \n",
            "16                   38.5                67.4               314.0          3.1             30.9   \n",
            "17                   36.4                63.8               311.9          3.3             38.8   \n",
            "18                   27.1                63.6               236.6          2.1             39.8   \n",
            "19                   32.5                64.0               252.5          2.2             37.6   \n",
            "20                   28.5                65.2               254.4          2.5             34.3   \n",
            "21                   34.9                63.9               279.2          1.8             37.9   \n",
            "22                   29.9                63.0               250.9          2.3             39.5   \n",
            "23                   34.3                67.1               269.3          1.6             36.9   \n",
            "24                   31.2                61.2               241.4          1.7             36.2   \n",
            "25                   37.6                65.4               309.3          2.7             36.3   \n",
            "26                   43.8                61.2               302.5          2.0             40.4   \n",
            "27                   30.9                55.8               261.9          2.4             38.3   \n",
            "28                   29.8                61.8               239.8          1.7             47.2   \n",
            "29                   34.3                62.1               232.4          1.7             39.0   \n",
            "30                   32.2                64.5               241.2          1.6             43.9   \n",
            "31                   30.8                63.8               231.5          1.5             37.2   \n",
            "32                   31.3                61.7               254.6          2.1             44.7   \n",
            "33                   47.1                61.1               329.8          2.2             28.5   \n",
            "34                   27.5                64.7               233.8          2.0             46.5   \n",
            "35                   37.2                66.7               290.5          2.2             32.5   \n",
            "36                   27.8                62.2               210.5          1.5             40.6   \n",
            "37                   30.2                63.0               231.5          1.5             41.2   \n",
            "38                   24.8                62.4               199.5          1.2             40.3   \n",
            "39                   32.4                66.7               260.0          1.8             31.6   \n",
            "40                   26.0                62.4               207.1          1.9             40.9   \n",
            "41                   33.1                65.1               278.1          2.0             35.2   \n",
            "42                   48.8                67.5               311.2          2.8             22.7   \n",
            "43                   30.2                65.6               249.7          2.5             33.7   \n",
            "44                   30.1                57.0               222.8          1.0             40.1   \n",
            "45                   31.4                56.3               225.2          2.2             41.5   \n",
            "46                   34.3                65.0               267.6          2.2             38.8   \n",
            "47                   38.3                61.7               318.4          2.2             29.3   \n",
            "48                   33.8                71.0               270.6          1.6             33.3   \n",
            "49                   40.3                55.7               279.5          1.8             36.6   \n",
            "50                   34.5                58.2               273.2          2.3             35.8   \n",
            "51                   35.4                59.8               227.5          1.7             37.1   \n",
            "52                   24.7                60.4               202.6          1.2             40.6   \n",
            "53                   24.8                58.4               203.6          1.5             48.1   \n",
            "54                   30.2                62.2               223.9          1.8             38.7   \n",
            "55                   31.6                57.3               227.2          2.1             40.9   \n",
            "56                   27.5                59.5               190.6          1.4             39.4   \n",
            "57                   28.2                54.4               223.8          1.4             36.3   \n",
            "58                   31.9                59.8               242.7          1.7             32.8   \n",
            "59                   27.8                65.7               246.2          2.1             39.5   \n",
            "60                   36.2                58.5               267.3          2.1             33.3   \n",
            "61                   39.4                66.6               264.8          1.6             34.8   \n",
            "62                    8.7                40.4                76.7          0.4             54.0   \n",
            "63                   35.6                59.0               235.3          1.4             41.5   \n",
            "64                   29.1                55.6               215.2          1.4             43.1   \n",
            "65                   34.3                65.9               260.2          1.6             36.1   \n",
            "66                   21.6                61.2               182.2          0.9             44.7   \n",
            "67                   27.2                57.7               192.9          1.5             36.7   \n",
            "68                    6.7                47.1                70.5          0.6             61.7   \n",
            "69                   28.5                61.6               231.9          1.5             34.2   \n",
            "70                   30.5                58.1               216.7          1.6             37.9   \n",
            "71                   35.9                60.3               272.5          1.9             28.6   \n",
            "72                   27.3                56.4               182.7          1.5             39.8   \n",
            "73                   28.3                59.2               205.5          1.0             39.8   \n",
            "74                   41.6                63.3               278.8          1.9             33.3   \n",
            "75                   30.1                62.9               215.0          1.3             33.5   \n",
            "76                   25.1                57.7               183.8          1.6             38.5   \n",
            "77                   34.0                57.2               222.5          2.1             35.1   \n",
            "78                   33.6                67.0               251.9          1.5             32.1   \n",
            "79                   38.5                64.6               253.8          1.8             28.2   \n",
            "80                   28.6                62.6               242.9          1.4             35.4   \n",
            "81                   23.5                52.1               169.2          1.4             34.8   \n",
            "82                   26.7                55.0               207.5          1.5             36.8   \n",
            "83                   31.0                57.8               232.9          1.8             35.3   \n",
            "84                   33.0                62.4               226.6          1.3             31.8   \n",
            "85                   25.7                51.6               172.7          0.8             40.7   \n",
            "86                   32.3                56.6               208.1          1.3             36.9   \n",
            "87                   30.5                63.4               214.1          1.1             37.7   \n",
            "88                   28.8                57.8               187.3          1.8             37.1   \n",
            "89                   28.2                61.3               192.0          1.2             45.9   \n",
            "90                   35.8                59.9               271.0          2.3             30.9   \n",
            "91                   34.3                62.6               240.0          1.9             30.1   \n",
            "92                   31.7                53.2               217.7          1.3             38.7   \n",
            "93                   36.2                57.1               226.1          1.8             34.0   \n",
            "94                   30.4                69.6               211.8          1.2             41.8   \n",
            "95                   38.8                62.4               268.0          1.9             26.6   \n",
            "96                   34.4                61.7               239.0          1.5             34.4   \n",
            "97                   33.7                60.7               234.7          1.9             31.9   \n",
            "98                   40.1                59.7               228.5          1.5             34.8   \n",
            "99                   40.3                54.0               217.4          1.3             33.0   \n",
            "100                  32.6                56.3               219.4          1.5             30.5   \n",
            "101                  28.3                60.3               220.8          1.4             35.0   \n",
            "102                  27.7                66.6               205.3          1.3             34.8   \n",
            "103                  30.6                57.8               195.2          1.4             42.3   \n",
            "104                  10.5                42.9                85.7          0.8             59.0   \n",
            "105                  40.3                59.5               268.1          1.5             26.5   \n",
            "106                  41.8                64.3               283.1          1.3             31.1   \n",
            "107                  26.4                54.2               181.5          1.2             36.2   \n",
            "108                  37.3                61.4               254.3          1.3             31.3   \n",
            "109                  23.4                51.3               132.2          0.8             36.8   \n",
            "110                  37.0                61.9               221.1          1.6             31.9   \n",
            "111                  26.8                64.2               208.5          1.6             35.6   \n",
            "112                  39.9                65.3               261.8          1.6             32.8   \n",
            "113                  25.9                54.6               165.5          1.2             37.2   \n",
            "114                  37.7                53.3               205.5          1.0             31.2   \n",
            "115                  35.1                56.3               247.2          1.6             25.9   \n",
            "116                  21.2                56.9               111.9          0.8             40.4   \n",
            "117                  31.5                58.7               203.3          0.8             35.3   \n",
            "118                  27.9                49.9               165.7          0.8             38.8   \n",
            "119                  33.2                54.5               185.6          0.6             35.6   \n",
            "120                  39.0                57.9               218.8          1.3             29.7   \n",
            "121                  36.7                59.5               247.1          1.8             30.2   \n",
            "122                  26.8                55.0               156.7          0.5             32.5   \n",
            "123                  27.7                50.6               153.9          0.9             35.8   \n",
            "124                  31.8                57.5               192.2          0.8             35.5   \n",
            "125                  34.1                54.3               221.0          0.7             32.9   \n",
            "126                  30.0                49.7               172.9          0.8             32.3   \n",
            "127                  34.8                58.8               210.3          0.8             39.1   \n",
            "128                  26.8                63.0               196.8          1.0             32.1   \n",
            "129                  21.3                53.7               104.9          0.3             36.6   \n",
            "130                  23.1                49.1               116.9          0.3             43.3   \n",
            "\n",
            "     Offense: G  Offense: Pts  Offense: Cmp  Offense: Att  Offense: Pct  Offense: TD  \\\n",
            "0         199.5           5.0           3.1          72.7         525.5         11.9   \n",
            "1         192.4           5.4           2.3          67.4         490.7         13.2   \n",
            "2         171.1           5.1           2.1          70.6         506.6         13.9   \n",
            "3         195.5           5.6           2.0          68.9         477.1         12.6   \n",
            "4         205.3           5.5           2.9          70.0         501.2         13.8   \n",
            "5         238.9           5.6           2.9          69.3         458.8          9.3   \n",
            "6         146.0           4.7           2.5          75.0         515.8         17.1   \n",
            "7         237.2           6.0           2.8          71.8         503.6         12.2   \n",
            "8         215.8           5.5           2.6          72.3         500.5         12.2   \n",
            "9         193.3           5.1           2.5          68.0         455.0         10.3   \n",
            "10        217.6           5.4           2.7          71.9         466.9         11.1   \n",
            "11        156.2           4.1           2.0          77.3         472.8         13.4   \n",
            "12        186.7           4.3           2.2          73.4         452.5         11.1   \n",
            "13        175.3           4.5           2.0          74.7         476.0         14.8   \n",
            "14        145.1           4.9           1.1          74.1         497.3         14.9   \n",
            "15        214.1           5.5           2.5          69.5         484.2         11.0   \n",
            "16        141.8           4.6           1.3          69.4         455.8         14.9   \n",
            "17        130.5           3.4           1.3          75.2         442.4         14.8   \n",
            "18        204.8           5.1           2.4          66.9         441.4          9.8   \n",
            "19        181.1           4.8           2.2          70.1         433.6         11.8   \n",
            "20        184.2           5.4           2.2          62.8         438.6         11.3   \n",
            "21        142.2           3.8           2.3          72.8         421.4         12.0   \n",
            "22        204.4           5.2           2.3          69.4         455.3         10.5   \n",
            "23        183.9           5.0           2.8          71.2         453.1         12.6   \n",
            "24        188.2           5.2           2.2          67.3         429.5         11.3   \n",
            "25        153.5           4.2           1.7          73.9         462.8         13.9   \n",
            "26        158.9           3.9           2.2          84.2         461.4         13.9   \n",
            "27        199.9           5.2           1.7          69.1         461.8         11.0   \n",
            "28        256.6           5.4           2.5          77.0         496.4          9.8   \n",
            "29        177.9           4.6           2.2          73.3         410.3         10.4   \n",
            "30        228.4           5.2           2.5          76.1         469.6         11.2   \n",
            "31        184.2           4.9           2.4          68.0         415.7          9.8   \n",
            "32        219.4           4.9           2.2          76.0         474.0         10.6   \n",
            "33        136.8           4.8           1.8          75.5         466.7         14.8   \n",
            "34        236.7           5.1           2.1          74.0         470.5          9.7   \n",
            "35        170.6           5.3           1.9          69.7         461.1         12.5   \n",
            "36        208.3           5.1           2.3          68.4         418.8          9.4   \n",
            "37        182.4           4.4           2.6          71.3         413.8         10.6   \n",
            "38        196.5           4.9           2.8          65.1         396.0          9.5   \n",
            "39        118.8           3.8           2.1          64.0         378.8          9.7   \n",
            "40        189.1           4.6           1.9          66.9         396.2          9.5   \n",
            "41        143.1           4.1           1.6          68.4         421.2         12.0   \n",
            "42         81.7           3.6           0.9          71.5         392.9         15.2   \n",
            "43        176.6           5.2           1.5          63.8         426.3         10.7   \n",
            "44        183.0           4.6           2.3          70.2         405.8          9.2   \n",
            "45        177.4           4.3           1.6          72.9         402.6         10.4   \n",
            "46        156.8           4.0           1.5          73.2         424.4         12.8   \n",
            "47        143.5           4.9           1.6          67.6         461.9         14.2   \n",
            "48        132.2           4.0           2.0          67.1         402.8         12.5   \n",
            "49        125.5           3.4           1.5          76.9         405.1         12.5   \n",
            "50        138.7           3.9           1.5          70.3         411.8         11.3   \n",
            "51        171.5           4.6           2.0          72.5         399.0         10.9   \n",
            "52        235.0           5.8           2.5          65.3         437.6          8.4   \n",
            "53        213.4           4.4           2.2          72.9         417.0          8.8   \n",
            "54        140.8           3.6           1.9          68.8         364.7          9.8   \n",
            "55        184.3           4.5           1.6          72.5         411.5         10.7   \n",
            "56        196.5           5.0           1.9          66.9         387.1          8.6   \n",
            "57        200.2           5.5           2.2          64.5         424.1          9.9   \n",
            "58        129.7           4.0           1.5          64.7         372.4         11.2   \n",
            "59        159.3           4.0           1.7          67.2         405.5         10.8   \n",
            "60        124.8           3.8           1.2          69.4         392.0         10.1   \n",
            "61        108.5           3.1           1.5          74.2         373.3         11.7   \n",
            "62        289.4           5.4           3.2          62.7         366.1          2.3   \n",
            "63        141.9           3.4           1.7          77.1         377.2         11.0   \n",
            "64        202.1           4.7           1.9          72.2         417.3         10.0   \n",
            "65        141.3           3.9           1.8          70.4         401.5         11.5   \n",
            "66        207.3           4.6           2.5          66.3         389.5          8.1   \n",
            "67        197.8           5.4           2.1          63.8         390.8          8.8   \n",
            "68        326.7           5.3           2.8          68.4         397.2          2.5   \n",
            "69        142.5           4.2           1.6          62.6         374.4         10.7   \n",
            "70        172.7           4.6           1.8          68.4         389.4         10.1   \n",
            "71         95.8           3.3           1.6          64.5         368.3         11.9   \n",
            "72        190.4           4.8           1.6          67.2         373.1          8.6   \n",
            "73        200.6           5.0           1.9          68.2         406.2          9.6   \n",
            "74        121.0           3.6           1.2          74.9         399.8         12.7   \n",
            "75        137.1           4.1           1.5          63.6         352.1          9.0   \n",
            "76        179.8           4.7           1.6          63.6         363.6          8.5   \n",
            "77        141.8           4.0           0.8          69.1         364.3          9.6   \n",
            "78        135.3           4.2           1.8          65.7         387.2         12.1   \n",
            "79        106.8           3.8           1.3          66.7         360.7         11.5   \n",
            "80        117.0           3.3           1.5          64.1         359.9         10.4   \n",
            "81        161.5           4.6           1.9          58.3         330.6          7.0   \n",
            "82        141.8           3.9           1.2          63.5         349.3          8.4   \n",
            "83        141.5           4.0           1.3          66.3         374.4         10.0   \n",
            "84         88.2           2.8           1.3          64.8         314.8         10.3   \n",
            "85        205.8           5.1           2.1          66.3         378.5          7.3   \n",
            "86        160.4           4.3           1.8          69.2         368.5          9.8   \n",
            "87        155.7           4.1           1.5          68.2         369.8          9.5   \n",
            "88        159.9           4.3           1.1          65.9         347.3          7.8   \n",
            "89        205.9           4.5           1.5          74.2         397.9          7.8   \n",
            "90        116.1           3.8           1.1          66.7         387.1         12.2   \n",
            "91        113.0           3.8           1.3          64.4         353.0         11.2   \n",
            "92        167.2           4.3           1.2          70.3         384.8          9.9   \n",
            "93        113.8           3.3           0.6          70.2         339.8         10.5   \n",
            "94        166.2           4.0           1.4          72.2         378.0         10.4   \n",
            "95         96.6           3.6           0.8          65.4         364.6         11.6   \n",
            "96        127.9           3.7           1.0          68.8         366.9         10.9   \n",
            "97        100.2           3.1           0.6          65.6         334.8          9.7   \n",
            "98        155.7           4.5           1.2          74.8         384.2         11.3   \n",
            "99        110.8           3.4           1.3          73.3         328.3          9.8   \n",
            "100       141.5           4.6           1.0          63.1         360.9          9.2   \n",
            "101       123.3           3.5           1.4          63.3         344.2          9.3   \n",
            "102       120.7           3.5           1.3          62.5         326.0          8.4   \n",
            "103       159.2           3.8           1.1          72.9         354.3          8.9   \n",
            "104       241.2           4.1           1.8          69.5         326.8          2.9   \n",
            "105        82.4           3.1           0.9          66.8         350.5         12.9   \n",
            "106        89.6           2.9           1.3          72.9         372.7         14.0   \n",
            "107       143.4           4.0           0.8          62.6         324.9          8.2   \n",
            "108       107.3           3.4           1.2          68.7         361.6         12.1   \n",
            "109       181.4           4.9           1.2          60.2         313.6          6.2   \n",
            "110       104.1           3.3           0.8          68.9         325.2          9.3   \n",
            "111       116.2           3.3           0.7          62.5         324.7          8.9   \n",
            "112       108.0           3.3           0.8          72.7         369.8         12.8   \n",
            "113       140.1           3.8           1.1          63.1         305.6          7.4   \n",
            "114       137.2           4.4           1.2          68.9         342.8          9.2   \n",
            "115        92.3           3.6           0.7          61.0         339.4         10.0   \n",
            "116       191.0           4.7           1.5          61.6         302.9          5.0   \n",
            "117       110.2           3.1           1.4          66.7         313.5          9.0   \n",
            "118       136.3           3.5           1.2          66.7         301.9          7.6   \n",
            "119       118.4           3.3           1.6          68.8         304.0          8.4   \n",
            "120       105.0           3.5           0.9          68.7         323.8         10.4   \n",
            "121        62.8           2.1           0.5          66.8         309.8         10.1   \n",
            "122        94.8           2.9           0.9          59.3         251.5          7.2   \n",
            "123       127.8           3.6           0.9          63.5         281.7          6.9   \n",
            "124       132.7           3.7           1.1          67.3         324.8          8.9   \n",
            "125       123.1           3.7           1.3          67.0         344.1          9.2   \n",
            "126       108.3           3.4           0.9          62.3         281.3          7.2   \n",
            "127       125.1           3.2           0.9          73.8         335.4          9.5   \n",
            "128        89.0           2.8           0.3          58.9         285.8          7.9   \n",
            "129       123.2           3.4           1.0          57.8         228.1          4.1   \n",
            "130       148.8           3.4           0.8          66.4         265.8          5.2   \n",
            "\n",
            "     Offense: Att.1  Offense: Avg  Offense: TD.1  Offense: Plays  Offense: Avg.1  Offense: Pass  \n",
            "0              10.3          25.4            8.1            69.6             0.2            0.8  \n",
            "1               8.7          23.8            5.6            48.0             0.5            0.8  \n",
            "2               9.9          25.6            6.3            58.0             0.4            0.5  \n",
            "3               9.3          23.8            7.9            68.7             0.6            1.2  \n",
            "4               9.9          25.1            4.4            44.9             0.5            1.2  \n",
            "5              12.6          23.3            4.1            32.0             0.4            0.7  \n",
            "6               8.7          27.2            6.8            60.5             0.7            0.8  \n",
            "7              12.2          25.7            6.5            52.5             0.9            1.6  \n",
            "8              12.7          26.5            6.8            57.2             0.7            0.9  \n",
            "9               9.4          21.1            4.8            49.6             0.5            1.1  \n",
            "10             12.5          26.1            4.5            40.2             0.7            1.3  \n",
            "11              9.4          25.5            4.3            42.3             0.8            1.5  \n",
            "12             10.6          22.6            5.1            39.9             0.9            1.8  \n",
            "13              9.7          25.9            7.0            61.5             0.6            1.4  \n",
            "14              8.1          24.6            6.2            57.5             0.9            1.6  \n",
            "15             11.2          24.2            6.7            59.1             0.5            1.1  \n",
            "16              7.2          23.5            7.9            70.4             0.8            1.5  \n",
            "17              8.2          25.4            4.8            40.2             1.0            1.5  \n",
            "18             10.4          21.6            4.0            34.3             0.4            1.1  \n",
            "19              7.9          21.4            5.3            48.3             0.5            1.2  \n",
            "20              7.8          20.5            5.3            46.5             0.6            1.5  \n",
            "21              8.9          22.6            4.1            36.8             0.6            1.2  \n",
            "22             10.4          23.0            5.6            51.6             0.5            0.9  \n",
            "23              9.9          24.7            6.1            54.3             0.5            1.3  \n",
            "24              9.5          22.9            6.1            47.3             0.5            0.9  \n",
            "25              8.9          24.7            6.1            55.3             0.5            1.0  \n",
            "26             10.5          26.5            5.7            44.3             1.4            1.9  \n",
            "27              9.4          21.9            5.3            42.4             1.1            1.6  \n",
            "28             13.5          25.2            6.8            63.5             0.9            1.6  \n",
            "29             10.2          22.9            5.4            48.2             0.7            1.6  \n",
            "30             11.8          24.4            4.9            46.4             0.6            1.5  \n",
            "31              9.8          21.8            5.2            50.5             0.5            0.8  \n",
            "32             11.9          23.8            5.7            50.2             0.6            1.2  \n",
            "33              7.7          25.2            5.1            45.8             1.2            1.6  \n",
            "34             12.8          23.9            6.4            55.5             0.5            1.4  \n",
            "35              8.0          22.6            4.3            37.5             0.4            0.5  \n",
            "36              9.5          20.1            5.3            42.9             0.4            0.9  \n",
            "37             10.3          22.8            4.8            41.1             0.8            1.3  \n",
            "38             11.3          22.4            6.0            54.7             1.0            1.4  \n",
            "39              7.3          19.0            6.9            63.8             1.1            2.1  \n",
            "40             10.7          21.6            4.6            42.3             0.8            1.4  \n",
            "41              7.9          20.9            4.9            44.1             0.4            0.9  \n",
            "42              5.4          22.8            6.3            60.8             0.7            1.5  \n",
            "43              9.4          21.9            5.8            54.0             0.5            0.8  \n",
            "44             11.2          21.5            7.4            63.7             0.8            1.5  \n",
            "45              9.4          22.0            6.7            55.0             1.1            1.9  \n",
            "46              8.3          22.5            7.8            71.9             0.9            1.2  \n",
            "47              8.2          24.2            5.4            50.0             1.1            1.8  \n",
            "48              7.9          22.1            4.5            40.1             0.6            1.0  \n",
            "49              7.7          22.2            3.5            33.5             1.4            1.8  \n",
            "50              7.6          21.4            6.2            57.1             0.8            1.5  \n",
            "51              9.3          23.3            6.4            53.0             1.0            1.6  \n",
            "52             11.0          21.5            7.0            60.5             0.5            1.4  \n",
            "53             11.5          22.2            7.1            64.9             0.6            1.7  \n",
            "54              9.2          21.3            7.9            73.5             0.9            1.5  \n",
            "55              9.0          22.2            6.2            58.0             0.4            1.1  \n",
            "56             10.0          19.5            5.6            47.4             0.6            1.2  \n",
            "57              8.7          20.0            6.8            50.1             0.7            1.1  \n",
            "58              6.5          18.5            7.5            64.4             0.6            1.2  \n",
            "59              8.7          21.8            6.2            56.9             0.5            1.5  \n",
            "60              7.0          19.5            6.8            64.3             1.6            2.1  \n",
            "61              5.7          20.2            6.5            58.3             0.8            1.4  \n",
            "62             14.6          17.7            4.8            38.9             0.3            1.1  \n",
            "63              9.2          22.1            5.5            51.2             0.6            1.4  \n",
            "64             11.6          22.8            6.8            54.8             0.7            1.1  \n",
            "65              7.2          20.2            7.8            71.1             0.6            1.2  \n",
            "66             12.5          21.6            3.5            31.8             0.7            1.0  \n",
            "67              9.4          19.5            4.6            36.9             0.8            1.7  \n",
            "68             17.2          20.4            3.9            29.7             0.2            1.0  \n",
            "69              7.8          20.3            8.5            63.0             0.7            1.0  \n",
            "70              8.6          20.5            6.2            53.5             1.2            2.1  \n",
            "71              5.8          20.3            5.8            48.9             0.6            0.8  \n",
            "72              8.8          18.8            6.3            62.5             1.2            1.3  \n",
            "73              8.9          20.3            6.9            66.0             0.9            1.8  \n",
            "74              7.9          23.1            5.4            53.6             1.2            1.6  \n",
            "75              7.3          17.7            5.8            57.1             0.6            1.3  \n",
            "76              7.9          18.0            6.2            57.8             0.8            1.4  \n",
            "77              8.8          19.6            6.5            55.7             0.8            1.5  \n",
            "78              7.3          21.3            7.3            72.3             0.8            1.5  \n",
            "79              6.5          19.8            5.4            45.3             0.7            1.4  \n",
            "80              7.2          19.6            5.4            49.9             1.1            1.5  \n",
            "81              7.3          16.7            6.5            56.6             1.0            1.5  \n",
            "82              7.7          17.9            6.6            58.4             1.1            1.9  \n",
            "83              8.4          20.1            6.0            52.5             1.5            2.5  \n",
            "84              5.5          17.2            5.8            55.3             0.4            0.8  \n",
            "85             10.0          18.1            7.5            57.3             1.0            1.9  \n",
            "86              7.9          20.1            7.0            63.2             0.8            2.3  \n",
            "87              7.8          18.6            7.8            63.7             0.7            1.6  \n",
            "88              7.8          17.5            5.3            46.1             0.5            1.3  \n",
            "89             11.7          20.9            7.2            66.1             0.8            1.5  \n",
            "90              6.8          21.3            6.8            59.5             1.2            1.8  \n",
            "91              6.7          20.2            5.8            54.9             1.0            1.3  \n",
            "92              9.3          21.0            6.5            55.8             1.0            1.8  \n",
            "93              7.4          20.4            7.3            57.5             0.6            1.2  \n",
            "94              8.9          21.1            6.5            61.4             0.4            1.3  \n",
            "95              5.7          19.3            5.3            44.6             0.8            1.0  \n",
            "96              8.3          21.3            7.1            60.0             1.0            2.1  \n",
            "97              6.2          17.5            7.8            70.5             0.8            1.8  \n",
            "98              7.9          21.3            6.0            55.9             1.2            1.8  \n",
            "99              6.8          19.2            5.0            45.3             1.1            1.5  \n",
            "100             7.8          19.5            6.3            49.1             0.5            1.4  \n",
            "101             7.0          18.1            5.4            42.5             1.1            1.6  \n",
            "102             7.3          17.8            4.9            44.8             0.6            1.3  \n",
            "103             8.8          19.8            8.5            77.5             1.6            2.1  \n",
            "104            13.3          17.6            3.8            31.3             0.5            1.3  \n",
            "105             3.9          18.4            4.6            37.0             1.0            1.9  \n",
            "106             6.5          22.8            6.7            60.1             1.0            2.2  \n",
            "107             6.8          15.8            7.4            59.4             1.1            1.9  \n",
            "108             6.5          20.8            4.6            41.3             0.7            1.8  \n",
            "109             8.6          16.0            4.3            37.5             0.9            1.2  \n",
            "110             6.6          17.8            4.9            44.7             0.8            1.4  \n",
            "111             6.9          17.6            5.7            39.5             1.0            1.5  \n",
            "112             6.1          20.4            5.6            46.1             1.3            1.8  \n",
            "113             7.7          17.1            5.5            48.2             0.4            0.9  \n",
            "114             8.1          18.8            5.6            50.2             0.9            1.5  \n",
            "115             4.6          16.0            6.8            62.1             0.6            1.6  \n",
            "116             9.5          16.2            7.1            60.0             0.8            1.7  \n",
            "117             6.5          17.5            7.4            58.5             0.8            1.4  \n",
            "118             7.0          16.8            6.7            62.9             1.1            1.8  \n",
            "119             7.0          17.2            6.0            55.1             0.7            1.4  \n",
            "120             6.0          17.8            6.2            53.3             1.3            1.8  \n",
            "121             5.4          16.8            6.0            48.5             1.2            2.2  \n",
            "122             5.5          13.8            4.1            32.7             0.5            1.3  \n",
            "123             7.2          14.8            7.8            64.2             1.2            1.7  \n",
            "124             7.2          17.7            5.8            51.9             0.8            1.1  \n",
            "125             7.4          19.1            7.0            62.2             1.2            2.2  \n",
            "126             7.2          15.9            5.3            48.3             0.8            1.8  \n",
            "127             7.8          19.0            4.6            40.8             1.4            2.6  \n",
            "128             5.5          14.7            6.9            60.4             0.9            1.7  \n",
            "129             7.7          13.3            6.1            51.2             0.8            1.2  \n",
            "130             7.8          14.6            7.6            66.7             1.2            1.7  \n"
          ]
        }
      ]
    },
    {
      "cell_type": "code",
      "source": [
        "df_team_stats_full = pd.merge(df_team_stats_offense, df_team_stats_defense, on='Team Name', how='inner')\n",
        "print(df_team_stats_full.head())"
      ],
      "metadata": {
        "colab": {
          "base_uri": "https://localhost:8080/"
        },
        "id": "LlrTW5xKouNl",
        "outputId": "d342a169-a415-4bb0-86d4-51415f27c3e5"
      },
      "execution_count": null,
      "outputs": [
        {
          "output_type": "stream",
          "name": "stdout",
          "text": [
            "    Team Name  Offense: Passing  Offense: Rushing  Offense: Total Offense  Offense: First Downs  \\\n",
            "0   Tennessee                13              46.1                    22.3                  32.5   \n",
            "1  Ohio State                13              44.2                    21.1                  31.5   \n",
            "2         USC                14              41.4                    24.6                  36.8   \n",
            "3     Alabama                13              41.1                    21.5                  33.7   \n",
            "4     Georgia                15              41.1                    22.4                  32.9   \n",
            "\n",
            "   Offense: Penalties  Offense: Turnovers  Offense: Rk  Offense: School  Offense: G  Offense: Pts  \\\n",
            "0                68.7               326.1          2.9             40.2       199.5           5.0   \n",
            "1                66.8               298.3          3.2             35.8       192.4           5.4   \n",
            "2                67.0               335.4          3.1             33.8       171.1           5.1   \n",
            "3                63.9               281.5          2.8             35.2       195.5           5.6   \n",
            "4                68.2               295.9          2.1             37.1       205.3           5.5   \n",
            "\n",
            "   Offense: Cmp  Offense: Att  Offense: Pct  Offense: TD  Offense: Att.1  Offense: Avg  \\\n",
            "0           3.1          72.7         525.5         11.9            10.3          25.4   \n",
            "1           2.3          67.4         490.7         13.2             8.7          23.8   \n",
            "2           2.1          70.6         506.6         13.9             9.9          25.6   \n",
            "3           2.0          68.9         477.1         12.6             9.3          23.8   \n",
            "4           2.9          70.0         501.2         13.8             9.9          25.1   \n",
            "\n",
            "   Offense: TD.1  Offense: Plays  Offense: Avg.1  Offense: Pass  Defense: Passing  \\\n",
            "0            8.1            69.6             0.2            0.8                13   \n",
            "1            5.6            48.0             0.5            0.8                13   \n",
            "2            6.3            58.0             0.4            0.5                14   \n",
            "3            7.9            68.7             0.6            1.2                13   \n",
            "4            4.4            44.9             0.5            1.2                15   \n",
            "\n",
            "   Defense: Rushing  Defense: Total Offense  Defense: First Downs  Defense: Penalties  \\\n",
            "0              22.8                    25.6                  40.9                62.6   \n",
            "1              21.0                    16.3                  27.7                58.9   \n",
            "2              29.2                    20.9                  32.9                63.7   \n",
            "3              18.2                    18.3                  33.4                54.8   \n",
            "4              14.3                    19.6                  34.1                57.5   \n",
            "\n",
            "   Defense: Turnovers  Defense: Rk  Defense: School  Defense: G  Defense: Pts  Defense: Cmp  \\\n",
            "0               289.5          1.6             35.3       115.8           3.3           1.2   \n",
            "1               200.5          1.5             34.4       121.1           3.5           0.9   \n",
            "2               264.1          1.8             32.1       159.8           5.0           2.1   \n",
            "3               187.8          0.9             35.9       130.4           3.6           1.2   \n",
            "4               219.7          1.0             26.7        77.1           2.9           0.5   \n",
            "\n",
            "   Defense: Att  Defense: Pct  Defense: TD  Defense: Att.1  Defense: Avg  Defense: TD.1  \\\n",
            "0          76.2         405.3         13.7             7.4          23.6            8.5   \n",
            "1          62.1         321.5          7.8             5.6          15.0            5.4   \n",
            "2          64.9         423.9         11.6             8.6          22.1            5.9   \n",
            "3          69.3         318.2          8.8             7.2          18.5            6.7   \n",
            "4          60.8         296.8          9.4             4.5          15.5            5.5   \n",
            "\n",
            "   Defense: Plays  Defense: Avg.1  Defense: Pass  \n",
            "0            67.4             0.8            1.6  \n",
            "1            45.4             0.8            1.4  \n",
            "2            49.9             1.4            2.1  \n",
            "3            51.0             0.5            1.1  \n",
            "4            40.8             0.8            1.3  \n"
          ]
        }
      ]
    },
    {
      "cell_type": "code",
      "source": [
        "df_team_stats_full['Returning Starters'] = None\n",
        "\n",
        "for team, score in returning_starters:\n",
        "    if team in df_team_stats_full['Team Name'].values:\n",
        "        df_team_stats_full.loc[df_team_stats_full['Team Name'] == team, 'Returning Starters'] = score\n",
        "    else:\n",
        "        print(f\"Team not found in DataFrame: {team}\")\n",
        "\n",
        "df_team_stats_full.rename(columns={'Team Name': 'Team'}, inplace=True)\n",
        "\n",
        "\n",
        "print(df_team_stats_full.head())"
      ],
      "metadata": {
        "colab": {
          "base_uri": "https://localhost:8080/"
        },
        "id": "uZn9G1RAeoC2",
        "outputId": "789c7c4b-e453-4620-f143-7d0bd0186650"
      },
      "execution_count": null,
      "outputs": [
        {
          "output_type": "stream",
          "name": "stdout",
          "text": [
            "Team not found in DataFrame: Sam Houston\n",
            "Team not found in DataFrame: J'ville State\n",
            "         Team  Offense: Passing  Offense: Rushing  Offense: Total Offense  Offense: First Downs  \\\n",
            "0   Tennessee                13              46.1                    22.3                  32.5   \n",
            "1  Ohio State                13              44.2                    21.1                  31.5   \n",
            "2         USC                14              41.4                    24.6                  36.8   \n",
            "3     Alabama                13              41.1                    21.5                  33.7   \n",
            "4     Georgia                15              41.1                    22.4                  32.9   \n",
            "\n",
            "   Offense: Penalties  Offense: Turnovers  Offense: Rk  Offense: School  Offense: G  Offense: Pts  \\\n",
            "0                68.7               326.1          2.9             40.2       199.5           5.0   \n",
            "1                66.8               298.3          3.2             35.8       192.4           5.4   \n",
            "2                67.0               335.4          3.1             33.8       171.1           5.1   \n",
            "3                63.9               281.5          2.8             35.2       195.5           5.6   \n",
            "4                68.2               295.9          2.1             37.1       205.3           5.5   \n",
            "\n",
            "   Offense: Cmp  Offense: Att  Offense: Pct  Offense: TD  Offense: Att.1  Offense: Avg  \\\n",
            "0           3.1          72.7         525.5         11.9            10.3          25.4   \n",
            "1           2.3          67.4         490.7         13.2             8.7          23.8   \n",
            "2           2.1          70.6         506.6         13.9             9.9          25.6   \n",
            "3           2.0          68.9         477.1         12.6             9.3          23.8   \n",
            "4           2.9          70.0         501.2         13.8             9.9          25.1   \n",
            "\n",
            "   Offense: TD.1  Offense: Plays  Offense: Avg.1  Offense: Pass  Defense: Passing  \\\n",
            "0            8.1            69.6             0.2            0.8                13   \n",
            "1            5.6            48.0             0.5            0.8                13   \n",
            "2            6.3            58.0             0.4            0.5                14   \n",
            "3            7.9            68.7             0.6            1.2                13   \n",
            "4            4.4            44.9             0.5            1.2                15   \n",
            "\n",
            "   Defense: Rushing  Defense: Total Offense  Defense: First Downs  Defense: Penalties  \\\n",
            "0              22.8                    25.6                  40.9                62.6   \n",
            "1              21.0                    16.3                  27.7                58.9   \n",
            "2              29.2                    20.9                  32.9                63.7   \n",
            "3              18.2                    18.3                  33.4                54.8   \n",
            "4              14.3                    19.6                  34.1                57.5   \n",
            "\n",
            "   Defense: Turnovers  Defense: Rk  Defense: School  Defense: G  Defense: Pts  Defense: Cmp  \\\n",
            "0               289.5          1.6             35.3       115.8           3.3           1.2   \n",
            "1               200.5          1.5             34.4       121.1           3.5           0.9   \n",
            "2               264.1          1.8             32.1       159.8           5.0           2.1   \n",
            "3               187.8          0.9             35.9       130.4           3.6           1.2   \n",
            "4               219.7          1.0             26.7        77.1           2.9           0.5   \n",
            "\n",
            "   Defense: Att  Defense: Pct  Defense: TD  Defense: Att.1  Defense: Avg  Defense: TD.1  \\\n",
            "0          76.2         405.3         13.7             7.4          23.6            8.5   \n",
            "1          62.1         321.5          7.8             5.6          15.0            5.4   \n",
            "2          64.9         423.9         11.6             8.6          22.1            5.9   \n",
            "3          69.3         318.2          8.8             7.2          18.5            6.7   \n",
            "4          60.8         296.8          9.4             4.5          15.5            5.5   \n",
            "\n",
            "   Defense: Plays  Defense: Avg.1  Defense: Pass Returning Starters  \n",
            "0            67.4             0.8            1.6           0.481242  \n",
            "1            45.4             0.8            1.4           0.639125  \n",
            "2            49.9             1.4            2.1           0.894745  \n",
            "3            51.0             0.5            1.1           0.060221  \n",
            "4            40.8             0.8            1.3           0.398541  \n"
          ]
        }
      ]
    },
    {
      "cell_type": "markdown",
      "source": [
        "### Merge the sentiment and statistics tables"
      ],
      "metadata": {
        "id": "o6FKUcBz4E8N"
      }
    },
    {
      "cell_type": "code",
      "source": [
        "from sklearn.preprocessing import StandardScaler\n",
        "\n",
        "df_team_sentiment_avg = pd.read_csv(\"all_teams_data_sentiment_full.csv\")\n",
        "df_sentiment_and_stats = df_team_stats_full\n",
        "\n",
        "df_sentiment_and_stats = pd.merge(df_team_sentiment_avg, df_team_stats_full, on='Team', how='left')\n",
        "df_sentiment_and_stats['Returning Starters'] = pd.to_numeric(df_sentiment_and_stats['Returning Starters'], errors='coerce')\n",
        "df_sentiment_and_stats = df_sentiment_and_stats.drop(columns=['Unnamed: 0'], errors='ignore')\n",
        "\n",
        "columns_to_normalize = [col for col in df_sentiment_and_stats.columns\n",
        "                        if df_sentiment_and_stats[col].dtype in ['float64', 'int64']\n",
        "                        and col not in ['Sentiment_Avg', 'Win Diff']]\n",
        "\n",
        "df_normalized = df_sentiment_and_stats.dropna(axis=0, how='any').copy()\n",
        "scaler = StandardScaler()\n",
        "df_normalized[columns_to_normalize] = scaler.fit_transform(df_normalized[columns_to_normalize])\n",
        "if 'Returning Starters' in df_normalized.columns:\n",
        "    df_normalized['Returning Starters'] *= 8\n",
        "if 'Offense: Total Offense' in df_normalized.columns:\n",
        "    df_normalized['Offense: Total Offense'] *= 4\n",
        "if 'Defense: Total Offense' in df_normalized.columns:\n",
        "    df_normalized['Defense: Total Offense'] *= 4\n",
        "# print(df_normalized.head())\n",
        "\n",
        "print(df_normalized.columns)\n",
        "df_normalized = df_normalized.drop(columns=['Unnamed: 0'], errors='ignore')\n",
        "X_train, X_test = train_test_split(df_normalized, test_size=0.2, random_state=24)\n",
        "print(X_train.head())\n",
        "# Check the split\n",
        "print(f\"Training set size: {len(X_train)}\")\n",
        "print(f\"Test set size: {len(X_test)}\")\n",
        "# missing_teams = df_sentiment_and_stats[df_sentiment_and_stats['Team'].isna()]\n",
        "\n",
        "# if not missing_teams.empty:\n",
        "#     print(\"Missing Teams (from df_team_stats_full):\")\n",
        "#     for team in missing_teams['Team']:\n",
        "#         print(team)\n",
        "# else:\n",
        "#     print(\"No teams are missing in the merge.\")"
      ],
      "metadata": {
        "id": "F-FNBKLKgg1C",
        "colab": {
          "base_uri": "https://localhost:8080/"
        },
        "outputId": "0fa231f8-16c0-4524-fd15-4a512bcf8095"
      },
      "execution_count": null,
      "outputs": [
        {
          "output_type": "stream",
          "name": "stdout",
          "text": [
            "Index(['Team', 'Sentiment_Avg', 'Win Diff', 'Bet Type', 'Offense: Passing', 'Offense: Rushing',\n",
            "       'Offense: Total Offense', 'Offense: First Downs', 'Offense: Penalties',\n",
            "       'Offense: Turnovers', 'Offense: Rk', 'Offense: School', 'Offense: G', 'Offense: Pts',\n",
            "       'Offense: Cmp', 'Offense: Att', 'Offense: Pct', 'Offense: TD', 'Offense: Att.1',\n",
            "       'Offense: Avg', 'Offense: TD.1', 'Offense: Plays', 'Offense: Avg.1', 'Offense: Pass',\n",
            "       'Defense: Passing', 'Defense: Rushing', 'Defense: Total Offense', 'Defense: First Downs',\n",
            "       'Defense: Penalties', 'Defense: Turnovers', 'Defense: Rk', 'Defense: School', 'Defense: G',\n",
            "       'Defense: Pts', 'Defense: Cmp', 'Defense: Att', 'Defense: Pct', 'Defense: TD',\n",
            "       'Defense: Att.1', 'Defense: Avg', 'Defense: TD.1', 'Defense: Plays', 'Defense: Avg.1',\n",
            "       'Defense: Pass', 'Returning Starters'],\n",
            "      dtype='object')\n",
            "              Team  Sentiment_Avg  Win Diff Bet Type  Offense: Passing  Offense: Rushing  \\\n",
            "98       Texas A&M      -0.308615      -1.0    Under         -0.927366         -0.770339   \n",
            "56      Miami (FL)      -0.207101      -0.5    Under         -0.927366         -0.657694   \n",
            "27   East Carolina      -0.216950      -3.5    Under          0.332020          0.595483   \n",
            "59  Michigan State       0.003733      -1.0    Under         -0.927366         -0.545049   \n",
            "65        Nebraska      -0.361603      -1.5    Under         -0.927366         -0.798500   \n",
            "\n",
            "    Offense: Total Offense  Offense: First Downs  Offense: Penalties  Offense: Turnovers  \\\n",
            "98               -0.933504              0.114579           -0.754710           -0.249422   \n",
            "56                1.562900              0.383696            0.237538            0.108937   \n",
            "27                4.475371              0.802324            1.156286            1.050544   \n",
            "59                1.729327              0.368745            0.402913            0.127221   \n",
            "65               -1.932065             -0.528313           -0.019711           -0.223825   \n",
            "\n",
            "    Offense: Rk  Offense: School  Offense: G  Offense: Pts  Offense: Cmp  Offense: Att  \\\n",
            "98    -0.280182        -1.047827   -0.371532      0.395590     -1.116122     -1.146628   \n",
            "56    -0.280182        -0.384038   -0.665239     -0.720177     -1.116122      0.067380   \n",
            "27     0.820533        -0.707422    0.256915      1.263409      0.328271      0.259066   \n",
            "59     0.348798        -1.115907   -0.987021     -0.596203     -0.634658     -0.869749   \n",
            "65    -0.437427        -0.281917   -0.764581     -0.968125     -0.474170     -1.104031   \n",
            "\n",
            "    Offense: Pct  Offense: TD  Offense: Att.1  Offense: Avg  Offense: TD.1  Offense: Plays  \\\n",
            "98     -0.499960    -0.428239       -0.361275     -0.388206       0.273250       -0.340190   \n",
            "56     -0.402712     0.233585       -0.130227      0.203517       0.988904        0.718159   \n",
            "27      1.124088     0.856479       -0.268856      0.630872      -1.515886       -1.466507   \n",
            "59     -0.628004     0.350378       -0.869581     -0.158092      -0.174034        0.222968   \n",
            "65     -0.770635    -0.389308       -0.730952     -0.848435      -0.531861       -0.981026   \n",
            "\n",
            "    Offense: Avg.1  Offense: Pass  Defense: Passing  Defense: Rushing  Defense: Total Offense  \\\n",
            "98       -0.971045      -0.137030         -0.927366         -0.903662               -6.189567   \n",
            "56        0.662211       1.564795         -0.927366          0.052791               -3.442240   \n",
            "27       -1.297696      -2.325090          0.332020          0.121109                4.961350   \n",
            "59        0.662211      -0.380148         -0.927366          0.155268                1.244378   \n",
            "65        0.988862       0.349206         -0.927366          0.189427                1.890808   \n",
            "\n",
            "    Defense: First Downs  Defense: Penalties  Defense: Turnovers  Defense: Rk  Defense: School  \\\n",
            "98             -1.337795           -1.029621           -2.149003    -0.665011         1.807591   \n",
            "56             -1.155293            0.158223            0.188151     0.272825        -0.305658   \n",
            "27              0.548059            1.501002            1.940263     1.210661        -1.064260   \n",
            "59             -0.516536            1.578471            0.314810     1.445120         1.374104   \n",
            "65              0.700144           -0.177472           -0.065166    -0.196093         1.347011   \n",
            "\n",
            "    Defense: G  Defense: Pts  Defense: Cmp  Defense: Att  Defense: Pct  Defense: TD  \\\n",
            "98    1.580142      0.908383     -0.842199      0.510156     -0.296017    -1.412732   \n",
            "56   -0.280948     -0.200323     -0.108402     -1.097657     -0.071759    -0.759239   \n",
            "27   -1.139478     -1.031852     -0.658750     -0.472397      0.463754     1.854730   \n",
            "59    0.727260      0.215442     -0.658750      0.755794      0.699612     1.070539   \n",
            "65    1.023792      0.492618      0.441946      1.626693      0.659013     0.482396   \n",
            "\n",
            "    Defense: Att.1  Defense: Avg  Defense: TD.1  Defense: Plays  Defense: Avg.1  Defense: Pass  \\\n",
            "98        1.432101      0.224999       0.965703        0.910283       -1.867006      -0.473302   \n",
            "56       -0.342564     -0.595028       0.039302        0.247535        1.297953       0.918764   \n",
            "27       -0.697497      0.374095      -0.269499        0.034108       -0.108696       0.083524   \n",
            "59        0.663079      0.933204       1.377437        1.179875       -2.218668      -1.308542   \n",
            "65        1.609568      1.045026      -0.372432        0.045341       -0.108696      -0.473302   \n",
            "\n",
            "    Returning Starters  \n",
            "98           12.126733  \n",
            "56            6.379643  \n",
            "27          -13.119412  \n",
            "59            4.327111  \n",
            "65            5.558630  \n",
            "Training set size: 88\n",
            "Test set size: 22\n"
          ]
        }
      ]
    },
    {
      "cell_type": "code",
      "source": [
        "import pandas as pd\n",
        "import numpy as np\n",
        "from sklearn.preprocessing import StandardScaler\n",
        "from sklearn.cluster import KMeans\n",
        "import matplotlib.pyplot as plt\n",
        "from sklearn.decomposition import PCA\n",
        "from sklearn.metrics import silhouette_score\n",
        "from sklearn.metrics.pairwise import rbf_kernel\n",
        "from sklearn.cluster import KMeans\n",
        "\n",
        "\n",
        "# if 'Defense: First Downs' in X_train.columns:\n",
        "#     X_train['Defense: First Downs'] *= 2\n",
        "df_numeric_clean = X_train\n",
        "\n",
        "df_numeric_only = df_numeric_clean.drop(columns=['Win Diff', 'Team', 'Bet Type'], errors='ignore')\n",
        "\n",
        "kernel_matrix = rbf_kernel(X, gamma=1.0)\n",
        "\n",
        "kmeans = KMeans(n_clusters=5, random_state=42)\n",
        "input_df = df_numeric_only.drop(columns=['Sentiment_Avg', 'Win Diff', 'Cluster', 'Cluster Prob', 'Unnamed: 0'], errors='ignore')\n",
        "input_df = input_df.loc[:, ~input_df.columns.str.contains('^Unnamed')]\n",
        "print(input_df.columns)\n",
        "kmeans.fit(input_df)\n",
        "\n",
        "df_numeric_clean['Cluster'] = kmeans.labels_\n",
        "\n",
        "X_train.loc[df_numeric_clean.index, 'Cluster'] = df_numeric_clean['Cluster'].values\n",
        "\n",
        "print(\"Cluster Assignments:\")\n",
        "\n",
        "# Reduce dimensions for visualization\n",
        "pca = PCA(n_components=2)\n",
        "\n",
        "\n",
        "reduced_data = pca.fit_transform(input_df)\n",
        "\n",
        "plt.figure(figsize=(10, 6))\n",
        "plt.scatter(reduced_data[:, 0], reduced_data[:, 1], c=kmeans.labels_, cmap='viridis', s=50)\n",
        "plt.colorbar()\n",
        "plt.title(\"KMeans Clusters Visualization\")\n",
        "plt.xlabel(\"PCA Component 1\")\n",
        "plt.ylabel(\"PCA Component 2\")\n",
        "try:\n",
        "  for i, team_name in enumerate(X_train['Bet Type']):\n",
        "      plt.text(reduced_data[i, 0], reduced_data[i, 1], team_name, fontsize=9, ha='right', va='bottom')\n",
        "except:\n",
        "  pass\n",
        "plt.show()\n",
        "\n",
        "# calc the Silhouette Score\n",
        "sil_score = silhouette_score(input_df, kmeans.labels_)\n",
        "print(f\"Silhouette Score : {sil_score:.3f}\")\n",
        "\n",
        "# Calculate WCSS (within - Cluster Sum of Squares)\n",
        "wcss = kmeans.inertia_\n",
        "print(f\"WCSS (Inertia): {wcss:.3f}\")\n"
      ],
      "metadata": {
        "id": "4lJUzSLt5CEO",
        "colab": {
          "base_uri": "https://localhost:8080/",
          "height": 801
        },
        "outputId": "dab5bc45-4551-448b-e539-159d41caacb9"
      },
      "execution_count": null,
      "outputs": [
        {
          "output_type": "stream",
          "name": "stdout",
          "text": [
            "Index(['Offense: Passing', 'Offense: Rushing', 'Offense: Total Offense', 'Offense: First Downs',\n",
            "       'Offense: Penalties', 'Offense: Turnovers', 'Offense: Rk', 'Offense: School', 'Offense: G',\n",
            "       'Offense: Pts', 'Offense: Cmp', 'Offense: Att', 'Offense: Pct', 'Offense: TD',\n",
            "       'Offense: Att.1', 'Offense: Avg', 'Offense: TD.1', 'Offense: Plays', 'Offense: Avg.1',\n",
            "       'Offense: Pass', 'Defense: Passing', 'Defense: Rushing', 'Defense: Total Offense',\n",
            "       'Defense: First Downs', 'Defense: Penalties', 'Defense: Turnovers', 'Defense: Rk',\n",
            "       'Defense: School', 'Defense: G', 'Defense: Pts', 'Defense: Cmp', 'Defense: Att',\n",
            "       'Defense: Pct', 'Defense: TD', 'Defense: Att.1', 'Defense: Avg', 'Defense: TD.1',\n",
            "       'Defense: Plays', 'Defense: Avg.1', 'Defense: Pass', 'Returning Starters'],\n",
            "      dtype='object')\n",
            "Cluster Assignments:\n"
          ]
        },
        {
          "output_type": "display_data",
          "data": {
            "text/plain": [
              "<Figure size 1000x600 with 2 Axes>"
            ],
            "image/png": "[encoded data removed]"
          },
          "metadata": {}
        },
        {
          "output_type": "stream",
          "name": "stdout",
          "text": [
            "Silhouette Score : 0.153\n",
            "WCSS (Inertia): 5328.330\n"
          ]
        }
      ]
    },
    {
      "cell_type": "code",
      "source": [
        "# Step 12: Assign cluster names to the DataFrame\n",
        "# You can name the clusters based on their cluster number or analysis\n",
        "cluster_names = {0: 'Cluster A', 1: 'Cluster B', 2: 'Cluster C', 3: 'Cluster D'}\n",
        "\n",
        "X_train['Cluster Name'] = X_train['Cluster'].map(cluster_names)\n",
        "# try:\n",
        "#   X_train.drop(columns=['Unnamed: 0'], inplace=True)\n",
        "# except:\n",
        "#   pass\n",
        "\n",
        "# Print the updated DataFrame with 'Team Name' and 'Cluster Name'\n",
        "\n",
        "# print(X_train[['Team', 'Cluster Name']])"
      ],
      "metadata": {
        "id": "O_nE3p1O-tgX"
      },
      "execution_count": null,
      "outputs": []
    },
    {
      "cell_type": "code",
      "source": [
        "print(input_df.columns)"
      ],
      "metadata": {
        "colab": {
          "base_uri": "https://localhost:8080/"
        },
        "id": "G34AKhE_aGAA",
        "outputId": "7bd77523-4666-4b32-a39b-cc61c39d360a"
      },
      "execution_count": null,
      "outputs": [
        {
          "output_type": "stream",
          "name": "stdout",
          "text": [
            "Index(['Offense: Passing', 'Offense: Rushing', 'Offense: Total Offense', 'Offense: First Downs',\n",
            "       'Offense: Penalties', 'Offense: Turnovers', 'Offense: Rk', 'Offense: School', 'Offense: G',\n",
            "       'Offense: Pts', 'Offense: Cmp', 'Offense: Att', 'Offense: Pct', 'Offense: TD',\n",
            "       'Offense: Att.1', 'Offense: Avg', 'Offense: TD.1', 'Offense: Plays', 'Offense: Avg.1',\n",
            "       'Offense: Pass', 'Defense: Passing', 'Defense: Rushing', 'Defense: Total Offense',\n",
            "       'Defense: First Downs', 'Defense: Penalties', 'Defense: Turnovers', 'Defense: Rk',\n",
            "       'Defense: School', 'Defense: G', 'Defense: Pts', 'Defense: Cmp', 'Defense: Att',\n",
            "       'Defense: Pct', 'Defense: TD', 'Defense: Att.1', 'Defense: Avg', 'Defense: TD.1',\n",
            "       'Defense: Plays', 'Defense: Avg.1', 'Defense: Pass', 'Returning Starters'],\n",
            "      dtype='object')\n"
          ]
        }
      ]
    },
    {
      "cell_type": "code",
      "source": [
        "# Step 1: Create a list to store the cluster names and win differences for each record\n",
        "cluster_info = []\n",
        "\n",
        "# Step 2: Iterate over each record in the DataFrame\n",
        "for index, row in X_train.iterrows():\n",
        "    cluster_label = row['Cluster']\n",
        "    cluster_name = cluster_names.get(cluster_label, 'Unknown')  # Get cluster name by cluster label\n",
        "    win_diff = row['Win Diff']\n",
        "\n",
        "    # Append the cluster name and win difference to the list\n",
        "    cluster_info.append((cluster_name, win_diff))\n",
        "\n",
        "# Step 3: Add the cluster names to the DataFrame for convenience\n",
        "X_train['Cluster Name'] = [info[0] for info in cluster_info]\n",
        "\n",
        "average_win_diff_per_cluster = X_train.groupby('Cluster')['Win Diff'].mean()\n",
        "average_win_diff_dict = average_win_diff_per_cluster.to_dict()\n",
        "\n",
        "print(average_win_diff_dict)\n",
        "print(type(average_win_diff_per_cluster))\n",
        "# Step 5: Print the average win difference per cluster\n",
        "print(\"Average Win Difference per Cluster:\")\n",
        "print(average_win_diff_per_cluster)\n",
        "\n",
        "# Step 6: Merge the average win difference back to X_train\n",
        "# We will create a new column 'Avg Win Diff per Cluster' in X_train\n",
        "# X_train = X_train.merge(average_win_diff_per_cluster, on='Cluster Name', how='left', suffixes=('', '_Cluster'))\n",
        "X_train['Cluster Prob'] = X_train['Cluster'].map(average_win_diff_dict)\n",
        "\n",
        "\n",
        "# print(X_train.head())"
      ],
      "metadata": {
        "colab": {
          "base_uri": "https://localhost:8080/"
        },
        "id": "zKRrCVoW-7ej",
        "outputId": "5f270252-0a23-43bc-9d7f-3455552cca90"
      },
      "execution_count": null,
      "outputs": [
        {
          "output_type": "stream",
          "name": "stdout",
          "text": [
            "{0: -0.6666666666666666, 1: 0.10416666666666667, 2: 0.42105263157894735, 3: 0.20833333333333334, 4: -0.4166666666666667}\n",
            "<class 'pandas.core.series.Series'>\n",
            "Average Win Difference per Cluster:\n",
            "Cluster\n",
            "0   -0.666667\n",
            "1    0.104167\n",
            "2    0.421053\n",
            "3    0.208333\n",
            "4   -0.416667\n",
            "Name: Win Diff, dtype: float64\n"
          ]
        }
      ]
    },
    {
      "cell_type": "code",
      "source": [
        "from sklearn.preprocessing import StandardScaler\n",
        "\n",
        "\n",
        "# Step 1: Apply the same transformations to X_test (same as X_train)\n",
        "# Assuming you already fit the scaler to X_train\n",
        "df_numeric_only_test = X_test.select_dtypes(include=[np.number])  # Keep only numeric columns\n",
        "# df_numeric_only_test = X_train.dropna(axis=0, how='any')  # Drops rows with any NaN values\n",
        "df_numeric_only_test = df_numeric_only_test.drop(columns=['Cluster'], errors='ignore')\n",
        "df_numeric_only_test = df_numeric_only_test.drop(columns=['Cluster Prob'], errors='ignore')\n",
        "df_numeric_only_test = df_numeric_only_test.drop(columns=['Win Diff', 'Bet Type', 'Cluster Name', 'Team', 'Sentiment_Avg'], errors='ignore')\n",
        "X_test_scaled = scaler.transform(df_numeric_only_test)  # Apply the same scaling to the test set\n",
        "# print(X_test_scaled)\n",
        "# Step 2: Use the KMeans model to predict the clusters for X_test\n",
        "test_cluster_labels = kmeans.predict(X_test_scaled)\n",
        "\n",
        "# Step 3: Assign the predicted cluster labels to X_test DataFrame\n",
        "X_test['Cluster'] = test_cluster_labels  # Add the cluster labels to X_test\n",
        "X_test['Cluster Prob'] = X_test['Cluster'].map(average_win_diff_dict)"
      ],
      "metadata": {
        "colab": {
          "base_uri": "https://localhost:8080/"
        },
        "id": "xHpc59zndpwW",
        "outputId": "db66e84c-cfc9-4e47-e7e3-4c8ce982ac39"
      },
      "execution_count": null,
      "outputs": [
        {
          "output_type": "stream",
          "name": "stderr",
          "text": [
            "/usr/local/lib/python3.10/dist-packages/sklearn/base.py:493: UserWarning: X does not have valid feature names, but KMeans was fitted with feature names\n",
            "  warnings.warn(\n"
          ]
        }
      ]
    },
    {
      "cell_type": "markdown",
      "source": [
        "## Making Predictions simply using K-Means"
      ],
      "metadata": {
        "id": "pNz201COKC7w"
      }
    },
    {
      "cell_type": "code",
      "source": [
        "X_test_split_with_all_data_k_means = pd.merge(X_test, df_sentiment_and_stats, on='Sentiment_Avg', how='left')\n",
        "# print(X_test_split_with_all_data_k_means.columns)\n",
        "matching_count = 0\n",
        "num_pushes = 0\n",
        "actuals = []\n",
        "predictions = []\n",
        "\n",
        "# # Step 2: Iterate over the DataFrame to check if 'Prediction' and 'Win Diff' have the same sign\n",
        "for index, row in X_test_split_with_all_data_k_means.iterrows():\n",
        "    # Get the 'Prediction' and 'Win Diff' values\n",
        "\n",
        "    prediction_scalar = row['Cluster Prob']\n",
        "    prediction = None\n",
        "    if prediction_scalar > 0:\n",
        "        prediction = \"Over\"\n",
        "    elif prediction_scalar < 0:\n",
        "        prediction = \"Under\"\n",
        "    else:\n",
        "        prediction = \"Push\"\n",
        "\n",
        "    # Get the actual 'Win Diff_x' value and determine the label\n",
        "    win_diff = row['Win Diff_x']\n",
        "    if win_diff > 0:\n",
        "        actual = \"Over\"\n",
        "    elif win_diff < 0:\n",
        "        actual = \"Under\"\n",
        "    else:\n",
        "        actual = \"Push\"\n",
        "\n",
        "    # Append to the lists\n",
        "    actuals.append(actual)\n",
        "    predictions.append(prediction)\n",
        "\n",
        "    # Check if 'Prediction' and 'Win Diff' have the same sign\n",
        "    if (prediction == \"Over\" and win_diff > 0) or (prediction == \"Under\" and win_diff < 0):\n",
        "        matching_count += 1  # Increment the counter if the signs match\n",
        "    if win_diff == 0:\n",
        "      num_pushes += 1\n",
        "\n",
        "# # Step 3: Calculate the percentage of matching predictions\n",
        "total_records = len(X_test_split_with_all_data_k_means) - num_pushes\n",
        "percentage_matching = (matching_count / total_records) * 100\n",
        "print(f'Percentage Correct: {round(percentage_matching, 3)}%')"
      ],
      "metadata": {
        "colab": {
          "base_uri": "https://localhost:8080/"
        },
        "id": "dvYXhIuQKefA",
        "outputId": "8f914f25-6e19-4e9e-ab11-ebe65b2e2fc6"
      },
      "execution_count": null,
      "outputs": [
        {
          "output_type": "stream",
          "name": "stdout",
          "text": [
            "Percentage Correct: 57.143%\n"
          ]
        }
      ]
    },
    {
      "cell_type": "markdown",
      "source": [
        "## Model 3: Making Predictions Using a random forest"
      ],
      "metadata": {
        "id": "c_Nci4voJ9p4"
      }
    },
    {
      "cell_type": "code",
      "source": [
        "import matplotlib.pyplot as plt\n",
        "import seaborn as sns\n",
        "from sklearn.ensemble import RandomForestRegressor\n",
        "from sklearn.metrics import mean_absolute_error, r2_score\n",
        "from sklearn.model_selection import train_test_split\n",
        "\n",
        "X_train_split = X_train[['Cluster Prob', 'Sentiment_Avg']]  # Features\n",
        "y_train_split = X_train['Win Diff']  # Target variable\n",
        "\n",
        "X_test_split = X_test[['Cluster Prob', 'Sentiment_Avg']]  # Features\n",
        "y_test_split = X_test['Win Diff']\n",
        "rf_model = RandomForestRegressor(n_estimators=100, random_state=7)\n",
        "\n",
        "rf_model.fit(X_train_split, y_train_split)\n",
        "\n",
        "y_pred = rf_model.predict(X_test_split)\n",
        "\n",
        "prediction_results = []\n",
        "for pred in y_pred:\n",
        "    if pred > 0:\n",
        "        prediction_results.append(\"Over\")\n",
        "    elif pred < 0:\n",
        "        prediction_results.append(\"Under\")\n",
        "    else:\n",
        "        prediction_results.append(\"Push\")\n",
        "\n",
        "X_test_split['Prediction'] = prediction_results\n",
        "\n",
        "mae = mean_absolute_error(y_test_split, y_pred)\n",
        "r2 = r2_score(y_test_split, y_pred)\n",
        "\n",
        "print(f\"Mean Absolute Error: {mae:.2f}\")\n",
        "print(f\"R-squared Score: {r2:.2f}\")\n",
        "\n",
        "# print(X_test_split.head())\n",
        "\n",
        "# Feature Importance Plot\n",
        "feature_importances = rf_model.feature_importances_\n",
        "\n",
        "# Plot feature importances\n",
        "plt.figure(figsize=(8, 6))\n",
        "sns.barplot(x=feature_importances, y=X_train_split.columns)\n",
        "plt.title('Feature Importance')\n",
        "plt.xlabel('Importance')\n",
        "plt.ylabel('Features')\n",
        "plt.show()\n",
        "\n",
        "residuals = y_test_split - y_pred\n",
        "\n",
        "plt.figure(figsize=(8, 6))\n",
        "sns.scatterplot(x=y_pred, y=residuals, color='green', alpha=0.6)\n",
        "plt.axhline(y=0, color='red', linestyle='--')\n",
        "plt.title('Residual Plot')\n",
        "plt.xlabel('Predicted Values')\n",
        "plt.ylabel('Residuals (True - Predicted)')\n",
        "plt.show()\n",
        "\n",
        "# Merging predictions with additional data\n",
        "X_test_split_with_all_data = pd.merge(X_test_split, df_sentiment_and_stats, on='Sentiment_Avg', how='left')\n",
        "\n"
      ],
      "metadata": {
        "colab": {
          "base_uri": "https://localhost:8080/",
          "height": 1000
        },
        "id": "DuY_eYG3OjRU",
        "outputId": "795436f3-3a30-46a4-c1e4-083f0ff4c65f"
      },
      "execution_count": null,
      "outputs": [
        {
          "output_type": "stream",
          "name": "stderr",
          "text": [
            "<ipython-input-25-38fc1aa70c4f>:27: SettingWithCopyWarning: \n",
            "A value is trying to be set on a copy of a slice from a DataFrame.\n",
            "Try using .loc[row_indexer,col_indexer] = value instead\n",
            "\n",
            "See the caveats in the documentation: https://pandas.pydata.org/pandas-docs/stable/user_guide/indexing.html#returning-a-view-versus-a-copy\n",
            "  X_test_split['Prediction'] = prediction_results\n"
          ]
        },
        {
          "output_type": "stream",
          "name": "stdout",
          "text": [
            "Mean Absolute Error: 1.44\n",
            "R-squared Score: 0.05\n"
          ]
        },
        {
          "output_type": "display_data",
          "data": {
            "text/plain": [
              "<Figure size 800x600 with 1 Axes>"
            ],
            "image/png": "[encoded data removed]"
          },
          "metadata": {}
        },
        {
          "output_type": "display_data",
          "data": {
            "text/plain": [
              "<Figure size 800x600 with 1 Axes>"
            ],
            "image/png": "[encoded data removed]"
          },
          "metadata": {}
        }
      ]
    },
    {
      "cell_type": "markdown",
      "source": [
        "### See how well it fared making actual predictions"
      ],
      "metadata": {
        "id": "Kn6n7cdToycE"
      }
    },
    {
      "cell_type": "code",
      "source": [
        "matching_count = 0\n",
        "num_pushes = 0\n",
        "actuals = []\n",
        "predictions = []\n",
        "\n",
        "# # Step 2: Iterate over the DataFrame to check if 'Prediction' and 'Win Diff' have the same sign\n",
        "for index, row in X_test_split_with_all_data.iterrows():\n",
        "    # Get the 'Prediction' and 'Win Diff' values\n",
        "    prediction = row['Prediction']\n",
        "    win_diff = row['Win Diff']\n",
        "\n",
        "    # Check if 'Prediction' and 'Win Diff' have the same sign\n",
        "    if (prediction == \"Over\" and win_diff > 0) or (prediction == \"Under\" and win_diff < 0) or (prediction == \"Push\" and win_diff == 0):\n",
        "        matching_count += 1  # Increment the counter if the signs match\n",
        "    if win_diff == 0:\n",
        "      num_pushes += 1\n",
        "\n",
        "    if win_diff > 0:\n",
        "        actual = \"Over\"\n",
        "    elif win_diff < 0:\n",
        "        actual = \"Under\"\n",
        "    else:\n",
        "        actual = \"Push\"\n",
        "    actuals.append(actual)\n",
        "    predictions.append(prediction)\n",
        "\n",
        "\n",
        "# # Step 3: Calculate the percentage of matching predictions\n",
        "total_records = len(X_test_split_with_all_data) - num_pushes\n",
        "percentage_matching = (matching_count / total_records) * 100\n",
        "print(percentage_matching)\n",
        "\n",
        "cm = confusion_matrix(actuals, predictions, labels=[\"Over\", \"Under\"])\n",
        "\n",
        "# Step 3: Plot the confusion matrix\n",
        "plt.figure(figsize=(8, 6))\n",
        "sns.heatmap(cm, annot=True, fmt='d', cmap='Blues', xticklabels=[\"Over\", \"Under\"], yticklabels=[\"Over\", \"Under\"])\n",
        "plt.title(\"Model 3: Confusion Matrix\")\n",
        "plt.xlabel(\"Predicted\")\n",
        "plt.ylabel(\"Actual\")\n",
        "plt.show()\n",
        "\n",
        "# Step 4: Print the confusion matrix\n",
        "print(\"Confusion Matrix:\")\n",
        "print(cm)"
      ],
      "metadata": {
        "colab": {
          "base_uri": "https://localhost:8080/",
          "height": 637
        },
        "id": "LrP_lpqTa27z",
        "outputId": "9e267f68-3b66-4028-f091-4299963d51b7"
      },
      "execution_count": null,
      "outputs": [
        {
          "output_type": "stream",
          "name": "stdout",
          "text": [
            "66.66666666666666\n"
          ]
        },
        {
          "output_type": "display_data",
          "data": {
            "text/plain": [
              "<Figure size 800x600 with 2 Axes>"
            ],
            "image/png": "[encoded data removed]"
          },
          "metadata": {}
        },
        {
          "output_type": "stream",
          "name": "stdout",
          "text": [
            "Confusion Matrix:\n",
            "[[7 4]\n",
            " [3 7]]\n"
          ]
        }
      ]
    },
    {
      "cell_type": "code",
      "source": [
        "\n"
      ],
      "metadata": {
        "id": "0RdXVN4hp8tR"
      },
      "execution_count": null,
      "outputs": []
    },
    {
      "cell_type": "code",
      "source": [],
      "metadata": {
        "id": "3_WjDJY_kssL"
      },
      "execution_count": null,
      "outputs": []
    }
  ]
}